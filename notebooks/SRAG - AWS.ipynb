{
 "cells": [
  {
   "cell_type": "markdown",
   "id": "a572cfe2-6a35-4841-915a-ffe0e89319cb",
   "metadata": {},
   "source": [
    "# Bibliotécas"
   ]
  },
  {
   "cell_type": "code",
   "execution_count": 1,
   "id": "68816fd8-963a-4583-826b-85685ee027dc",
   "metadata": {
    "tags": []
   },
   "outputs": [
    {
     "name": "stdout",
     "output_type": "stream",
     "text": [
      "Requirement already satisfied: awswrangler in /home/ec2-user/anaconda3/envs/python3/lib/python3.10/site-packages (3.7.3)\n",
      "Requirement already satisfied: boto3<2.0.0,>=1.20.32 in /home/ec2-user/anaconda3/envs/python3/lib/python3.10/site-packages (from awswrangler) (1.34.101)\n",
      "Requirement already satisfied: botocore<2.0.0,>=1.23.32 in /home/ec2-user/anaconda3/envs/python3/lib/python3.10/site-packages (from awswrangler) (1.34.101)\n",
      "Requirement already satisfied: numpy<2.0,>=1.18 in /home/ec2-user/anaconda3/envs/python3/lib/python3.10/site-packages (from awswrangler) (1.22.4)\n",
      "Requirement already satisfied: packaging<25.0,>=21.1 in /home/ec2-user/anaconda3/envs/python3/lib/python3.10/site-packages (from awswrangler) (21.3)\n",
      "Requirement already satisfied: pandas<3.0.0,>=1.2.0 in /home/ec2-user/anaconda3/envs/python3/lib/python3.10/site-packages (from awswrangler) (2.2.1)\n",
      "Requirement already satisfied: pyarrow>=8.0.0 in /home/ec2-user/anaconda3/envs/python3/lib/python3.10/site-packages (from awswrangler) (15.0.2)\n",
      "Requirement already satisfied: typing-extensions<5.0.0,>=4.4.0 in /home/ec2-user/anaconda3/envs/python3/lib/python3.10/site-packages (from awswrangler) (4.10.0)\n",
      "Requirement already satisfied: jmespath<2.0.0,>=0.7.1 in /home/ec2-user/anaconda3/envs/python3/lib/python3.10/site-packages (from boto3<2.0.0,>=1.20.32->awswrangler) (1.0.1)\n",
      "Requirement already satisfied: s3transfer<0.11.0,>=0.10.0 in /home/ec2-user/anaconda3/envs/python3/lib/python3.10/site-packages (from boto3<2.0.0,>=1.20.32->awswrangler) (0.10.1)\n",
      "Requirement already satisfied: python-dateutil<3.0.0,>=2.1 in /home/ec2-user/anaconda3/envs/python3/lib/python3.10/site-packages (from botocore<2.0.0,>=1.23.32->awswrangler) (2.9.0)\n",
      "Requirement already satisfied: urllib3!=2.2.0,<3,>=1.25.4 in /home/ec2-user/anaconda3/envs/python3/lib/python3.10/site-packages (from botocore<2.0.0,>=1.23.32->awswrangler) (2.2.1)\n",
      "Requirement already satisfied: pyparsing!=3.0.5,>=2.0.2 in /home/ec2-user/anaconda3/envs/python3/lib/python3.10/site-packages (from packaging<25.0,>=21.1->awswrangler) (3.1.2)\n",
      "Requirement already satisfied: pytz>=2020.1 in /home/ec2-user/anaconda3/envs/python3/lib/python3.10/site-packages (from pandas<3.0.0,>=1.2.0->awswrangler) (2024.1)\n",
      "Requirement already satisfied: tzdata>=2022.7 in /home/ec2-user/anaconda3/envs/python3/lib/python3.10/site-packages (from pandas<3.0.0,>=1.2.0->awswrangler) (2024.1)\n",
      "Requirement already satisfied: six>=1.5 in /home/ec2-user/anaconda3/envs/python3/lib/python3.10/site-packages (from python-dateutil<3.0.0,>=2.1->botocore<2.0.0,>=1.23.32->awswrangler) (1.16.0)\n"
     ]
    }
   ],
   "source": [
    "#!pip install awswrangler"
   ]
  },
  {
   "cell_type": "code",
   "execution_count": 2,
   "id": "3891320a-9619-4839-af86-2b04a4202c5b",
   "metadata": {
    "tags": []
   },
   "outputs": [
    {
     "name": "stdout",
     "output_type": "stream",
     "text": [
      "Requirement already satisfied: sweetviz in /home/ec2-user/anaconda3/envs/python3/lib/python3.10/site-packages (2.3.1)\n",
      "Requirement already satisfied: pandas!=1.0.0,!=1.0.1,!=1.0.2,>=0.25.3 in /home/ec2-user/anaconda3/envs/python3/lib/python3.10/site-packages (from sweetviz) (2.2.1)\n",
      "Requirement already satisfied: numpy>=1.16.0 in /home/ec2-user/anaconda3/envs/python3/lib/python3.10/site-packages (from sweetviz) (1.22.4)\n",
      "Requirement already satisfied: matplotlib>=3.1.3 in /home/ec2-user/anaconda3/envs/python3/lib/python3.10/site-packages (from sweetviz) (3.8.3)\n",
      "Requirement already satisfied: tqdm>=4.43.0 in /home/ec2-user/anaconda3/envs/python3/lib/python3.10/site-packages (from sweetviz) (4.66.2)\n",
      "Requirement already satisfied: scipy>=1.3.2 in /home/ec2-user/anaconda3/envs/python3/lib/python3.10/site-packages (from sweetviz) (1.12.0)\n",
      "Requirement already satisfied: jinja2>=2.11.1 in /home/ec2-user/anaconda3/envs/python3/lib/python3.10/site-packages (from sweetviz) (3.1.3)\n",
      "Requirement already satisfied: importlib-resources>=1.2.0 in /home/ec2-user/anaconda3/envs/python3/lib/python3.10/site-packages (from sweetviz) (6.4.0)\n",
      "Requirement already satisfied: MarkupSafe>=2.0 in /home/ec2-user/anaconda3/envs/python3/lib/python3.10/site-packages (from jinja2>=2.11.1->sweetviz) (2.1.5)\n",
      "Requirement already satisfied: contourpy>=1.0.1 in /home/ec2-user/anaconda3/envs/python3/lib/python3.10/site-packages (from matplotlib>=3.1.3->sweetviz) (1.2.0)\n",
      "Requirement already satisfied: cycler>=0.10 in /home/ec2-user/anaconda3/envs/python3/lib/python3.10/site-packages (from matplotlib>=3.1.3->sweetviz) (0.12.1)\n",
      "Requirement already satisfied: fonttools>=4.22.0 in /home/ec2-user/anaconda3/envs/python3/lib/python3.10/site-packages (from matplotlib>=3.1.3->sweetviz) (4.50.0)\n",
      "Requirement already satisfied: kiwisolver>=1.3.1 in /home/ec2-user/anaconda3/envs/python3/lib/python3.10/site-packages (from matplotlib>=3.1.3->sweetviz) (1.4.5)\n",
      "Requirement already satisfied: packaging>=20.0 in /home/ec2-user/anaconda3/envs/python3/lib/python3.10/site-packages (from matplotlib>=3.1.3->sweetviz) (21.3)\n",
      "Requirement already satisfied: pillow>=8 in /home/ec2-user/anaconda3/envs/python3/lib/python3.10/site-packages (from matplotlib>=3.1.3->sweetviz) (10.2.0)\n",
      "Requirement already satisfied: pyparsing>=2.3.1 in /home/ec2-user/anaconda3/envs/python3/lib/python3.10/site-packages (from matplotlib>=3.1.3->sweetviz) (3.1.2)\n",
      "Requirement already satisfied: python-dateutil>=2.7 in /home/ec2-user/anaconda3/envs/python3/lib/python3.10/site-packages (from matplotlib>=3.1.3->sweetviz) (2.9.0)\n",
      "Requirement already satisfied: pytz>=2020.1 in /home/ec2-user/anaconda3/envs/python3/lib/python3.10/site-packages (from pandas!=1.0.0,!=1.0.1,!=1.0.2,>=0.25.3->sweetviz) (2024.1)\n",
      "Requirement already satisfied: tzdata>=2022.7 in /home/ec2-user/anaconda3/envs/python3/lib/python3.10/site-packages (from pandas!=1.0.0,!=1.0.1,!=1.0.2,>=0.25.3->sweetviz) (2024.1)\n",
      "Requirement already satisfied: six>=1.5 in /home/ec2-user/anaconda3/envs/python3/lib/python3.10/site-packages (from python-dateutil>=2.7->matplotlib>=3.1.3->sweetviz) (1.16.0)\n"
     ]
    }
   ],
   "source": [
    "!pip install sweetviz"
   ]
  },
  {
   "cell_type": "code",
   "execution_count": 3,
   "id": "56153062",
   "metadata": {
    "tags": []
   },
   "outputs": [
    {
     "name": "stdout",
     "output_type": "stream",
     "text": [
      "sagemaker.config INFO - Not applying SDK defaults from location: /etc/xdg/sagemaker/config.yaml\n",
      "sagemaker.config INFO - Not applying SDK defaults from location: /home/ec2-user/.config/sagemaker/config.yaml\n"
     ]
    }
   ],
   "source": [
    "import pandas as pd\n",
    "import seaborn as sns\n",
    "import matplotlib.pyplot as plt\n",
    "import numpy as np\n",
    "import awswrangler as wr #Importando um driver para acessar outras instâncias da AWS\n",
    "import sweetviz as sv\n",
    "import sagemaker\n",
    "from sagemaker import get_execution_role\n",
    "from sagemaker.amazon.amazon_estimator import get_image_uri\n",
    "from sagemaker.session import s3_input\n",
    "from sklearn.model_selection import train_test_split\n",
    "import warnings\n",
    "warnings.filterwarnings('ignore')"
   ]
  },
  {
   "cell_type": "markdown",
   "id": "dd24f070-ab2d-493b-b7bf-a432189c2613",
   "metadata": {},
   "source": [
    "# Funções"
   ]
  },
  {
   "cell_type": "code",
   "execution_count": 4,
   "id": "bb4479b4-a4e9-498a-b1b3-679b0062323d",
   "metadata": {
    "tags": []
   },
   "outputs": [],
   "source": [
    "pd.set_option('display.max_rows', 50)\n",
    "pd.set_option('display.max_columns', None)"
   ]
  },
  {
   "cell_type": "code",
   "execution_count": 5,
   "id": "5fe0f931-cc4e-4756-a562-a13edfcbfbc5",
   "metadata": {
    "tags": []
   },
   "outputs": [],
   "source": [
    "#Criando uma função para extrair os dados do Athena \n",
    "#def consultar_tabela_athena(database, tabela):\n",
    "#    wr.config.aws_profile = 'default'\n",
    "#    wr.config.region = 'us-east-1'\n",
    "    \n",
    "#    query = f'SELECT * FROM {database}.{tabela}'\n",
    "#    df = wr.athena.read_sql_query(query, database = database)    \n",
    "#    return df\n",
    "\n",
    "def descricao_estatistica_variaveis_numericas(df):\n",
    "    #Métricas de tendência central: média e mediana\n",
    "    central_1 = pd.DataFrame(df.apply(np.mean)).T\n",
    "    central_2 = pd.DataFrame(df.apply(np.median)).T\n",
    "    \n",
    "    #Métricas de dispersão: desvio padrão, mínimo, máximo, aplitude, assimetrica e curtose\n",
    "    dispersao_1 = pd.DataFrame(df.apply(np.std)).T\n",
    "    dispersao_2 = pd.DataFrame(df.apply(np.min)).T\n",
    "    dispersao_3 = pd.DataFrame(df.apply(np.max)).T\n",
    "    dispersao_4 = pd.DataFrame(df.apply(lambda x: x.max() - x.min())).T\n",
    "    dispersao_5 = pd.DataFrame(df.apply(lambda x: x.skew())).T\n",
    "    dispersao_6 = pd.DataFrame(df.apply(lambda x: x.kurtosis())).T\n",
    "    \n",
    "    metricas = pd.concat([dispersao_2, dispersao_3, dispersao_4, central_1, central_2, dispersao_1, dispersao_5, dispersao_6]).T\n",
    "    metricas.columns = ['min', 'max', 'amplitude', 'mean', 'median', 'std', 'assimetria', 'kurtosis']\n",
    "    return metricas\n",
    "\n",
    "def descricao_estatistica_variaveis_categoricas(df):\n",
    "    return df.apply(lambda x: x.unique().shape[0])"
   ]
  },
  {
   "cell_type": "code",
   "execution_count": 6,
   "id": "6125fef4-90e8-48e2-bef0-9c0defcc3775",
   "metadata": {
    "tags": []
   },
   "outputs": [],
   "source": [
    "#database = 'base_de_dados_catalogados'\n",
    "#tabela = 'tabela_traintrain'\n",
    "#df = consultar_tabela_athena(database, tabela)"
   ]
  },
  {
   "cell_type": "code",
   "execution_count": 7,
   "id": "660591f2-aded-4f9a-b501-7403586cb408",
   "metadata": {
    "tags": []
   },
   "outputs": [],
   "source": [
    "#df.head(3)"
   ]
  },
  {
   "cell_type": "markdown",
   "id": "14bbbf5c-59d4-4f4f-8014-2afd4508eaf4",
   "metadata": {},
   "source": [
    "### Salvar os dados com o formato .parquet"
   ]
  },
  {
   "cell_type": "code",
   "execution_count": 8,
   "id": "52465938-e867-4bec-9073-6952b52c0a39",
   "metadata": {
    "tags": []
   },
   "outputs": [],
   "source": [
    "# O formato Parquet é altamente eficiente em termos de armazenamento. Ele usa uma codificação eficiente para os dados,\n",
    "# o que geralmente resulta em arquivos menores em comparação com outros formatos de armazenamento, como CSV ou JSON."
   ]
  },
  {
   "cell_type": "code",
   "execution_count": 9,
   "id": "a4984807-c9dc-4aff-991e-281d6131a8f0",
   "metadata": {
    "tags": []
   },
   "outputs": [],
   "source": [
    "#df.to_parquet('train.parquet', index = False)"
   ]
  },
  {
   "cell_type": "code",
   "execution_count": 10,
   "id": "5c97a109-33d0-4e4b-ba6e-809a1ec9355e",
   "metadata": {
    "tags": []
   },
   "outputs": [],
   "source": [
    "#df.shape"
   ]
  },
  {
   "cell_type": "markdown",
   "id": "997f8eeb-2c1f-4a4a-91f4-3233d99069f9",
   "metadata": {},
   "source": [
    "### Importar os dados com o formato .parquet"
   ]
  },
  {
   "cell_type": "code",
   "execution_count": 11,
   "id": "4a829112-b8f9-4604-b73b-ce791e42c00d",
   "metadata": {},
   "outputs": [],
   "source": [
    "# Obs.: Como os dados estão salvos em memória, não é preciso mais consultar o Athena para trazer os dados"
   ]
  },
  {
   "cell_type": "code",
   "execution_count": 12,
   "id": "592d9d1e-f1b0-493f-b1d8-daffa200ddc7",
   "metadata": {
    "tags": []
   },
   "outputs": [],
   "source": [
    "df_parquet = pd.read_parquet('train.parquet')"
   ]
  },
  {
   "cell_type": "code",
   "execution_count": 13,
   "id": "88573067-605a-4d2c-8e9e-cc0b87080476",
   "metadata": {
    "tags": []
   },
   "outputs": [
    {
     "data": {
      "text/plain": [
       "(1300980, 76)"
      ]
     },
     "execution_count": 13,
     "metadata": {},
     "output_type": "execute_result"
    }
   ],
   "source": [
    "df_parquet.shape"
   ]
  },
  {
   "cell_type": "markdown",
   "id": "4106f423-0991-407e-b7bd-a55d5415f7ba",
   "metadata": {
    "tags": []
   },
   "source": [
    "# 1. (Limpeza dos dados) Passo 1: Descrição dos dados"
   ]
  },
  {
   "cell_type": "markdown",
   "id": "3ff49e3d-0675-4be4-97f7-b43256d56829",
   "metadata": {},
   "source": [
    "### 1.1 Descrição das colunas (dicionário de dados)"
   ]
  },
  {
   "cell_type": "markdown",
   "id": "3d3fd014-60bc-44da-bca8-447a93efd91f",
   "metadata": {
    "tags": []
   },
   "source": [
    "**SEM_NOT** – Semana Epidemiológica do preenchimento da ficha de notificação.\n",
    "\n",
    "**SEM_PRI** – Semana Epidemiológica dos Primeiros Sintomas.\n",
    "\n",
    "**SG_UF_NOT** – Tabela com código e siglas das UF padronizados pelo IBGE.\n",
    "\n",
    "**(4) ID_REGIONA** – Regional de Saúde de Notificação Código IBGE.\n",
    "Município realizou a notificação.\n",
    "\n",
    "**CO_REGIONA** – Regional de Saúde de Notificação Código IBGE.\n",
    "Município realizou a notificação.\n",
    "\n",
    "**(5) ID_MUNICIP** – Município Código IBGE.\n",
    "Unidade que realizou a notificação.\n",
    "\n",
    "**CO_MUN_NOT** – Município Código IBGE.\n",
    "Unidade que realizou a notificação.\n",
    "\n",
    "**(8) CS_SEXO** – Sexo do paciente.\n",
    "\n",
    "**NU_IDADE_N** – Idade informada pelo paciente.\n",
    "Quando não se sabe a data de nascimento é registrada a idade aparente. Se digitado a data de nascimento a idade é calculada automaticamente pelo sistema considerando o intervalo entre a data de nascimento e a data dos primeiros sintomas. A idade deve ser <= 150.\n",
    "\n",
    "**(10) TP_IDADE** – Tipo de idade.\n",
    "1 – Dia;\n",
    "2 – Mês;\n",
    "3 – Ano.\n",
    "Se digitado a data de nascimento, o campo Idade/Tipo é calculado e preenchido automaticamente pelo sistema: considerando o intervalo entre a data de nascimento e a data dos primeiros sintomas. Se a diferença for de 0 a 30 dias, o sistema grava em Idade = (nº dias) e em Tipo = 1 – Dia. Por exemplo: se Data de nascimento = 05/12/2012 e Data dos 1ºs sintomas = 11/12/2012, então Idade = 6 e Tipo = 1 – Dia. Se a diferença for de 1 a 11 meses, o sistema grava em Idade = (nº meses) e em Tipo = 2 – Mês. Por exemplo: se Data de nascimento = 05/10/2012 e Data dos 1ºs sintomas = 11/12/2012, então Idade = 2 e Tipo = 2 – Mês. Se a diferença for maior ou igual a 12 meses, o sistema grava em Idade = (nº anos) e em Tipo = 3 – Ano. Por exemplo: se Data de nascimento = 05/10/2011 e Data dos 1ºs sintomas = 11/12/2012, então Idade = 1 e Tipo = 3 – Ano.\n",
    "\n",
    "**COD_IDADE** – Não existe a descrição no dicionário de dados.\n",
    "\n",
    "**(11) CS_GESTANT** – Gestante Idade gestacional da paciente. \n",
    "1 – 1º Trimestre;\n",
    "2 – 2º Trimestre;\n",
    "3 – 3º Trimestre;\n",
    "4 – Idade Gestacional Ignorada;\n",
    "5 – Não;\n",
    "6 – Não se aplica;\n",
    "9 – Ignorado.\n",
    "Se selecionado categoria 2 – Feminino no campo Sexo. Se selecionado sexo igual a Masculino ou a idade for menor ou igual a 9 anos, o campo é preenchido automaticamente com 6 – Não se aplica. Se selecionado sexo igual a Feminino e idade for maior que 9 anos, o campo não pode ser preenchido com 6 – Não se aplica.\n",
    "\n",
    "**(12) CS_RACA** – Raça/Cor declarada pelo paciente.\n",
    "1 – Branca;\n",
    "2 – Preta;\n",
    "3 – Amarela;\n",
    "4 – Parda;\n",
    "5 – Indígena;\n",
    "9 – Ignorado.\n",
    "\n",
    "**(14) CS_ESCOL_N** – Escolaridade.\n",
    "0 – Sem escolaridade;\n",
    "1 – Fundamental 1º ciclo (1ª a 5ª série);\n",
    "2 – Fundamental 2º ciclo (6ª a 9ª série);\n",
    "3 – Médio (1º ao 3º ano);\n",
    "4 – Superior;\n",
    "5 – Não se aplica;\n",
    "9 – Ignorado.\n",
    "\n",
    "**(18) SG_UF** – UF.\n",
    "Unidade federativa de residência do paciente.\n",
    "\n",
    "**(25) CS_ZONA** – Zona geográfica de residência do paciente.\n",
    "1 – Urbana;\n",
    "2 – Rural;\n",
    "3 – Periurbana;\n",
    "9 – Ignorado.\n",
    "\n",
    "**SURTO_SG** – Não está no dicionário.\n",
    "\n",
    "**(33) NOSOCOMIAL** – Trata–se de caso nosocomial (infecção adquirida no hospital)?.\n",
    "1 – Sim;\n",
    "2 – Não;\n",
    "9 – Ignorado.\n",
    "\n",
    "**(34) AVE_SUINO** – Paciente trabalha ou tem contato direto com aves, suínos, ou outro animal?.\n",
    "1 – Sim;\n",
    "2 – Não;\n",
    "9 – Ignorado.\n",
    "\n",
    "**(35) FEBRE** – Sinais e Sintomas/Febre.\n",
    "1 – Sim;\n",
    "2 – Não;\n",
    "9 – Ignorado.\n",
    "\n",
    "<span style=\"color:blue\">**(35) TOSSE**</span> – Sinais e Sintomas/Tosse.\n",
    "1 – Sim;\n",
    "2 – Não;\n",
    "9 – Ignorado.\n",
    "\n",
    "**(35) GARGANTA** – Sinais e Sintomas/Dor de Garganta.\n",
    "1 – Sim;\n",
    "2 – Não;\n",
    "9 – Ignorado.\n",
    "\n",
    "**(35) DISPNEIA** – Sinais e Sintomas/Dispneia (sensação de falta de ar).\n",
    "1 – Sim;\n",
    "2 – Não;\n",
    "9 – Ignorado.\n",
    "\n",
    "**(35) DESC_RESP** – Sinais e sintomas/desconforto respiratórios.\n",
    "1 – Sim;\n",
    "2 – Não;\n",
    "9 – Ignorado.\n",
    "\n",
    "**(35) SATURACAO** – Sinais e Sintomas/Saturação O2< 95%.\n",
    "1 – Sim;\n",
    "2 – Não;\n",
    "9 – Ignorado.\n",
    "\n",
    "**(35) DIARREIA** – Sinais e Sintomas/Diarreia.\n",
    "1 – Sim;\n",
    "2 – Não;\n",
    "9 – Ignorado.\n",
    "\n",
    "**(35) VÔMITO** – Sinais e Sintomas/Vômito.\n",
    "1 – Sim;\n",
    "2 – Não;\n",
    "9 – Ignorado.\n",
    "\n",
    "**(35) DOR_ABD** – Sinais e Sintomas/Dor abdominal.\n",
    "1 – Sim;\n",
    "2 – Não;\n",
    "9 – Ignorado.\n",
    "\n",
    "**(35) FADIGA** – Sinais e Sintomas/Fadiga.\n",
    "1 – Sim;\n",
    "2 – Não;\n",
    "9 – Ignorado.\n",
    "\n",
    "**(35) ERD_OLFT** – Sinais e Sintomas/Perda do Olfato.\n",
    "1 – Sim;\n",
    "2 – Não;\n",
    "9 – Ignorado.\n",
    "\n",
    "**(35) PERD_PALA** – Sinais e Sintomas/Perda do Paladar.\n",
    "1 – Sim;\n",
    "2 – Não;\n",
    "9 – Ignorado.\n",
    "\n",
    "**(35) OUTRO_SIN** – Sinais e Sintomas/Outros.\n",
    "(String)\n",
    "\n",
    "**(36) FATOR_RISC** – Fatores de risco (possui algum?).\n",
    "1 – Sim;\n",
    "2 – Não;\n",
    "9 – Ignorado.\n",
    "\n",
    "**(36) PUERPERA** – Fatores de risco/Puérpera ou parturiente (mulher que pariu recentemente – até 45 dias do parto)?.\n",
    "1 – Sim;\n",
    "2 – Não;\n",
    "9 – Ignorado.\n",
    "\n",
    "**(36) CARDIOPATI** – Fatores de risco/Cardiovascular Crônica Doença.\n",
    "1 – Sim;\n",
    "2 – Não;\n",
    "9 – Ignorado.\n",
    "\n",
    "**(36) HEMATOLOGI** – Fatores de risco/Doença hematológica crônica.\n",
    "1 – Sim;\n",
    "2 – Não;\n",
    "9 – Ignorado.\n",
    "\n",
    "**(36) SIND_DOWN** – Fatores de risco/Síndrome de Down.\n",
    "1 – Sim;\n",
    "2 – Não;\n",
    "9 – Ignorado.\n",
    "\n",
    "**(36) HEPATICA** – Fatores de risco/Doença Hepática Crônica.\n",
    "1 – Sim;\n",
    "2 – Não;\n",
    "9 – Ignorado.\n",
    "\n",
    "**(36) ASMA** – Fatores de risco/ Asma.\n",
    "1 – Sim;\n",
    "2 – Não;\n",
    "9 – Ignorado.\n",
    "\n",
    "**(36) DIABETES** – Fatores de risco/Diabetes mellitus.\n",
    "1 – Sim;\n",
    "2 – Não;\n",
    "9 – Ignorado.\n",
    "\n",
    "**(36) NEUROLOGIC** – Fatores de risco/doença Neurológica Crônica.\n",
    "1 – Sim;\n",
    "2 – Não;\n",
    "9 – Ignorado.\n",
    "\n",
    "**(36) PNEUMOPATI** – Fatores de risco/outra Pneumatopatia Crônica (doenças que afetam os pulmões).\n",
    "1 – Sim;\n",
    "2 – Não;\n",
    "9 – Ignorado.\n",
    "\n",
    "**(36) IMUNODEPRE** – Fatores de risco/Imunodeficiência ou Imunodepressão.\n",
    "1 – Sim;\n",
    "2 – Não;\n",
    "9 – Ignorado.\n",
    "\n",
    "**(36) RENAL** – Fatores de risco/Doença Renal Crônica.\n",
    "1 – Sim;\n",
    "2 – Não;\n",
    "9 – Ignorado.\n",
    "\n",
    "**(36) OBESIDADE** – Fatores de risco/Obesidade.\n",
    "1 – Sim;\n",
    "2 – Não;\n",
    "9 – Ignorado.\n",
    "\n",
    "**(36) OBES_IMC** – Fatores de (Descrição IMC).\n",
    "Campo habilitado somente se selecionado 1 (Sim) no campo OBESIDADE.\n",
    "\n",
    "**OUT_MORBI** – Fatores de risco/Outros.\n",
    "1 – Sim;\n",
    "2 – Não;\n",
    "9 – Ignorado.\n",
    "\n",
    "**MORB_DESC** – Fatores de risco/outros(descrição).\n",
    "Habilitado se selecionado categoria 1–Sim em Fatores de risco/Outros. OUT_MORBI\n",
    "\n",
    "**(37) VACINA** – Recebeu vacina contra Gripe na última campanha?.\n",
    "1 – Sim;\n",
    "2 – Não;\n",
    "9 – Ignorado.\n",
    "\n",
    "**MAE_VAC** – Se < 6 meses: a mãe recebeu a vacina?.\n",
    "1 – Sim;\n",
    "2 – Não;\n",
    "9 – Ignorado.\n",
    "\n",
    "**M_AMAMENTA** – Se < 6 meses: a mãe amamenta a criança?.\n",
    "1 – Sim;\n",
    "2 – Não;\n",
    "9 – Ignorado.\n",
    "\n",
    "**(39) ANTIVIRAL** – Usou antiviral para gripe?.\n",
    "1 – Sim;\n",
    "2 – Não;\n",
    "9 – Ignorado.\n",
    "\n",
    "**(40) TP_ANTIVIR** – Qual antiviral?. Habilitado se campo 39 (ANTIVIRAL) Usou antiviral para gripe? for igual a 1. \n",
    "1 – Oseltamivir;\n",
    "2 – Zanamivir;\n",
    "3 – Outro, especifique.\n",
    "\n",
    "**(42) HOSPITAL** – Houve internação?. Caso o campo não seja igual a 1 – Sim o sistema emitirá um aviso indicando que não atende a definição de caso.\n",
    "1 – Sim;\n",
    "2 – Não;\n",
    "9 – Ignorado.\n",
    "\n",
    "**(47) UTI** – Internado em UTI?.\n",
    "1 – Sim;\n",
    "2 – Não;\n",
    "9 – Ignorado.\n",
    "\n",
    "**(50) SUPORT_VEN** – Uso de suporte ventilatório?. Suporte ventilatório no intuito de facilitar as trocas gasosas, reduzir a fadiga muscular, reduzir a dispneia, melhorar a ventilação alveolar, aumentar a complacência pulmonar e a capacidade residual funcional, diminuir a morbidade e manter as vias aéreas abertas sem a necessidade de instituir uma via aérea.\n",
    "1 – Sim, invasivo;\n",
    "2 – Sim, não invasivo;\n",
    "3 – Não;\n",
    "9 – Ignorado.\n",
    "\n",
    "**(51) RAIOX_RES** – Raio X de Tórax.\n",
    "1 – Normal;\n",
    "2 – Infiltrado intersticial;\n",
    "3 – Consolidação;\n",
    "4 – Misto;\n",
    "5 – Outro;\n",
    "6 – Não realizado;\n",
    "9 – Ignorado.\n",
    "\n",
    "**RAIOX_OUT** – Raio X de Tórax/Outro (especificar). Informar o resultado do RX de tórax se selecionado a opção 5–Outro.\n",
    "Habilitado de campo 57(RAIOX_RES) – Raio X de Tórax = 5 (Outro).\n",
    "\n",
    "**(53) AMOSTRA** – Coletou amostra. Foi realizado coleta de amostra para realização de teste diagnóstico?\n",
    "1 – Sim;\n",
    "2 – Não;\n",
    "9 – Ignorado.\n",
    "\n",
    "**(55) TP_AMOSTRA** – Tipo de amostra.\n",
    "1 – Secreção de Naso–orofaringe;\n",
    "2 – Lavado Broco–alveolar;\n",
    "3 – Tecido post–mortem;\n",
    "4 – Outra, qual?;\n",
    "5 – LCR;\n",
    "9 – Ignorado.\n",
    "\n",
    "**OUT_AMOST** – Tipo de amostra/Outra. Descrição do tipo da amostra clínica, caso diferente das listadas nas categorias do campo.\n",
    "Campo habilitado se selecionado categoria 4–Outra, qual em Tipo de amostra. em coluna TP_AMOSTRA\n",
    "\n",
    "<span style=\"color:red\">**CLASSI_FIN**</span> – Classificação final do caso –– TARGET.\n",
    "1 – SRAG por influenza;\n",
    "2 – SRAG por outro vírus respiratório;\n",
    "3 – SRAG por outro agente etiológico qual;\n",
    "4 – SRAG não especificado;\n",
    "5 – SRAG por covid–19.\n",
    "\n",
    "<span style=\"color:blue\">**HISTO_VGM**</span> – Não está no dicionário. Histórico de viagem internacional.\n",
    "\n",
    "**PAC_COCBO** – Ocupação profissional do paciente.\n",
    "\n",
    "**PAC_DSCBO** – Ocupação profissional do paciente.\n",
    "\n",
    "**OUT_ANIM** – Paciente trabalha ou tem contato direto com aves, suínos/Outro animal (especificar). Informar o animal que o paciente teve contato se selecionado a opção 3.\n",
    "Habilitado de campo 33(AVE_SUINO) – Contato com outro animal = 3 (Outro).\n",
    "\n",
    "**TOMO_RES** – Aspecto Tomografia.\n",
    "1 – Tipico covid–19;\n",
    "2 – Indeterminado covid–19;\n",
    "3 – Atípico covid–19;\n",
    "4 – Negativo para Pneumonia;\n",
    "5 – Outro;\n",
    "6 – Não realizado;\n",
    "9 – Ignorado.\n",
    "\n",
    "**TOMO_OUT** – Aspecto Tomografia/Outro (especificar). Informar o resultado da tomografia se selecionado a opção 5 –Outro\n",
    "Habilitado de campo 59 (TOMO_RES ) – Aspecto Tomografia = 5\n",
    "\n",
    "**VACINA_COV** – Recebeu vacina COVID–19?.\n",
    "1 – Sim;\n",
    "2 – Não;\n",
    "9 – Ignorado.\n",
    "\n",
    "**DOSE_1_COV** – Data 1ª dose da vacina COVID–19.\n",
    "Habilitado se campo 36(VACINA_COV) – Recebeu vacina COVID–19? for igual a 1.\n",
    "\n",
    "**DOSE_2_COV** – Data 2ª dose da vacina COVID–19\n",
    "Habilitado se campo 36(VACINA_COV) – Recebeu vacina COVID–19? for igual a 1.\n",
    "\n",
    "**DOSE_REF** – Data da dose reforço da vacina COVID–19\n",
    "Habilitado se campo 36(VACINA_COV) – Recebeu vacina COVID–19? for igual a 1.\n",
    "\n",
    "**FNT_IN_COV** – Fonte dos dados/informação sobre a vacina COVID–19\n",
    "Campo preenchido de acordo com a fonte dos dados/informação sobre a vacina COVID–19, se foi digitada manualmente ou recuperada via integração com a Base Nacional de Vacinação.\n",
    "1 – Manual;\n",
    "2 – Integração.\n",
    "\n",
    "**DELTA_UTI** – Não está no dicionário de dados.\n",
    "\n",
    "**ID** – Não está no dicionário de dados."
   ]
  },
  {
   "cell_type": "markdown",
   "id": "f021e0e5-eb94-4303-8a1e-b5e41b632f01",
   "metadata": {},
   "source": [
    "### 1.2 Carregar os dados"
   ]
  },
  {
   "cell_type": "code",
   "execution_count": 14,
   "id": "70e037e8-b1ce-4289-9c1c-d09143be1d88",
   "metadata": {
    "tags": []
   },
   "outputs": [],
   "source": [
    "df1 = df_parquet.copy()"
   ]
  },
  {
   "cell_type": "markdown",
   "id": "6b314405-6189-4059-8af5-d336d1be5245",
   "metadata": {},
   "source": [
    "### 1.3 Dimensão dos dados"
   ]
  },
  {
   "cell_type": "code",
   "execution_count": 15,
   "id": "33d2dbeb-d03a-4db6-ba40-2480c5bc20e0",
   "metadata": {
    "tags": []
   },
   "outputs": [
    {
     "data": {
      "text/plain": [
       "(1300980, 76)"
      ]
     },
     "execution_count": 15,
     "metadata": {},
     "output_type": "execute_result"
    }
   ],
   "source": [
    "df1.shape"
   ]
  },
  {
   "cell_type": "markdown",
   "id": "7c506d53-62ac-4ce0-8acd-8718cfb7eac3",
   "metadata": {},
   "source": [
    "### 1.4 Editar as colunas"
   ]
  },
  {
   "cell_type": "code",
   "execution_count": 16,
   "id": "2dd840dc-8eb2-462b-842b-36ef138d5ef9",
   "metadata": {
    "tags": []
   },
   "outputs": [
    {
     "data": {
      "text/plain": [
       "Index(['sem_not', 'sem_pri', 'sg_uf_not', 'id_regiona', 'co_regiona',\n",
       "       'id_municip', 'co_mun_not', 'cs_sexo', 'nu_idade_n', 'tp_idade',\n",
       "       'cod_idade', 'cs_gestant', 'cs_raca', 'cs_escol_n', 'sg_uf', 'cs_zona',\n",
       "       'surto_sg', 'nosocomial', 'ave_suino', 'febre', 'tosse', 'garganta',\n",
       "       'dispneia', 'desc_resp', 'saturacao', 'diarreia', 'vomito', 'outro_sin',\n",
       "       'outro_des', 'puerpera', 'fator_risc', 'cardiopati', 'hematologi',\n",
       "       'sind_down', 'hepatica', 'asma', 'diabetes', 'neurologic', 'pneumopati',\n",
       "       'imunodepre', 'renal', 'obesidade', 'obes_imc', 'out_morbi',\n",
       "       'morb_desc', 'vacina', 'mae_vac', 'm_amamenta', 'antiviral',\n",
       "       'tp_antivir', 'hospital', 'uti', 'suport_ven', 'raiox_res', 'raiox_out',\n",
       "       'amostra', 'tp_amostra', 'out_amost', 'classi_fin', 'histo_vgm',\n",
       "       'pac_cocbo', 'pac_dscbo', 'out_anim', 'dor_abd', 'fadiga', 'perd_olft',\n",
       "       'perd_pala', 'tomo_res', 'tomo_out', 'vacina_cov', 'dose_1_cov',\n",
       "       'dose_2_cov', 'dose_ref', 'fnt_in_cov', 'delta_uti', 'id'],\n",
       "      dtype='object')"
      ]
     },
     "execution_count": 16,
     "metadata": {},
     "output_type": "execute_result"
    }
   ],
   "source": [
    "df1.columns"
   ]
  },
  {
   "cell_type": "code",
   "execution_count": 17,
   "id": "0eda4825-9635-4b2a-9816-49e93dfe46b3",
   "metadata": {
    "tags": []
   },
   "outputs": [],
   "source": [
    "df1.columns = df1.columns.str.lower()"
   ]
  },
  {
   "cell_type": "code",
   "execution_count": 18,
   "id": "e2f32b07-deb7-4c97-922d-0e25e20da37d",
   "metadata": {},
   "outputs": [],
   "source": [
    "df1 = df1[['sem_not', 'sem_pri', 'sg_uf_not', 'id_regiona', 'co_regiona',\n",
    "       'id_municip', 'co_mun_not', 'cs_sexo', 'nu_idade_n', 'tp_idade',\n",
    "       'cod_idade', 'cs_gestant', 'cs_raca', 'cs_escol_n', 'sg_uf', 'cs_zona',\n",
    "       'surto_sg', 'nosocomial', 'ave_suino', 'febre', 'tosse', 'garganta',\n",
    "       'dispneia', 'desc_resp', 'saturacao', 'diarreia', 'vomito', 'dor_abd',\n",
    "       'fadiga', 'perd_olft', 'perd_pala', 'outro_sin', 'outro_des', 'fator_risc',\n",
    "       'puerpera', 'cardiopati', 'hematologi', 'sind_down', 'hepatica', 'asma',\n",
    "       'diabetes', 'neurologic', 'pneumopati', 'imunodepre', 'renal', 'obesidade',\n",
    "       'obes_imc', 'out_morbi', 'morb_desc', 'vacina', 'mae_vac', 'm_amamenta', 'antiviral',\n",
    "       'tp_antivir', 'hospital', 'uti', 'suport_ven', 'raiox_res', 'raiox_out',\n",
    "       'amostra', 'tp_amostra', 'out_amost', 'classi_fin', 'histo_vgm', 'pac_cocbo',\n",
    "       'pac_dscbo', 'out_anim',  'tomo_res', 'tomo_out', 'vacina_cov', 'dose_1_cov',\n",
    "       'dose_2_cov', 'dose_ref', 'fnt_in_cov', 'delta_uti', 'id']]"
   ]
  },
  {
   "cell_type": "code",
   "execution_count": 19,
   "id": "df5a7129-ab77-4cab-9f04-1304f90c2766",
   "metadata": {
    "tags": []
   },
   "outputs": [],
   "source": [
    "df1_aux = df1.copy()"
   ]
  },
  {
   "cell_type": "markdown",
   "id": "3dc96b55-939f-4efa-bc34-e95116867b10",
   "metadata": {},
   "source": [
    "### 1.5 Selecionar as colunas que inicialmente fazem sentido ao problema abordado"
   ]
  },
  {
   "cell_type": "code",
   "execution_count": 20,
   "id": "9de89ce7-6256-4707-85b9-e7b5bc03d31c",
   "metadata": {
    "tags": []
   },
   "outputs": [],
   "source": [
    "#Eliminando as variáveis que não estão contidas no dicionário ou não tem clareza do que se trata\n",
    "df1_aux = df1_aux.drop(columns = ['sem_not', 'sem_pri', 'sg_uf_not', 'id_regiona', 'co_regiona', 'id_municip', 'co_mun_not',\n",
    "                                  'nu_idade_n', 'tp_idade', 'cod_idade', 'obes_imc', 'sg_uf', 'surto_sg', 'outro_sin', 'outro_des',\n",
    "                                  'out_morbi', 'morb_desc', 'mae_vac', 'm_amamenta', 'raiox_out', 'out_amost', 'histo_vgm', \n",
    "                                  'pac_cocbo', 'pac_dscbo', 'out_anim', 'tomo_out', 'fnt_in_cov', 'delta_uti', 'id'], axis = 1)"
   ]
  },
  {
   "cell_type": "markdown",
   "id": "b4bec707-4349-4802-9b48-28aecb7c9927",
   "metadata": {},
   "source": [
    "### 1.6 Limpar inconsistências os dados"
   ]
  },
  {
   "cell_type": "code",
   "execution_count": 22,
   "id": "85891507-10e0-4cfc-ac18-982c9cf73e0e",
   "metadata": {
    "tags": []
   },
   "outputs": [
    {
     "data": {
      "text/plain": [
       "cs_sexo\n",
       "M    697225\n",
       "F    603567\n",
       "I       188\n",
       "Name: count, dtype: Int64"
      ]
     },
     "execution_count": 22,
     "metadata": {},
     "output_type": "execute_result"
    }
   ],
   "source": [
    "df1_aux['cs_sexo'].value_counts()"
   ]
  },
  {
   "cell_type": "code",
   "execution_count": 23,
   "id": "96443d40-d893-42cc-9b43-59ff7b11e3cb",
   "metadata": {},
   "outputs": [],
   "source": [
    "# A variável 'cs_sexo' deve conter os dados igual a M ou F. Portanto, os valores diferentes deste foram excluídos"
   ]
  },
  {
   "cell_type": "code",
   "execution_count": 24,
   "id": "dbd71275-0e55-487b-bd46-fcc134e11bec",
   "metadata": {
    "tags": []
   },
   "outputs": [],
   "source": [
    "df1_aux = df1_aux[df1_aux['cs_sexo'].isin(['M', 'F'])]"
   ]
  },
  {
   "cell_type": "code",
   "execution_count": 25,
   "id": "d7d4182a-81a2-43c1-abf0-589d1b8c1798",
   "metadata": {
    "tags": []
   },
   "outputs": [
    {
     "data": {
      "text/plain": [
       "cs_gestant\n",
       "6    843726\n",
       "5    391893\n",
       "9     51484\n",
       "3      8168\n",
       "2      3297\n",
       "1      1398\n",
       "4       671\n",
       "0       155\n",
       "Name: count, dtype: Int64"
      ]
     },
     "execution_count": 25,
     "metadata": {},
     "output_type": "execute_result"
    }
   ],
   "source": [
    "df1_aux['cs_gestant'].value_counts()"
   ]
  },
  {
   "cell_type": "code",
   "execution_count": 26,
   "id": "27f3e429-4115-4650-bc41-3bd386f28b0f",
   "metadata": {},
   "outputs": [],
   "source": [
    "# A variável 'cs_gestant' deve conter os dados 1, 2, 3, 4, 5, 6 e 9. Portanto, os valores diferentes deste foram excluídos"
   ]
  },
  {
   "cell_type": "code",
   "execution_count": 27,
   "id": "14a314d8-80ed-41f2-8d0f-b615c1e860b1",
   "metadata": {
    "tags": []
   },
   "outputs": [],
   "source": [
    "df1_aux = df1_aux[df1_aux['cs_gestant'].isin([1, 2, 3, 4, 5, 6, 9])]"
   ]
  },
  {
   "cell_type": "code",
   "execution_count": 28,
   "id": "d74fac59-aa71-47b8-90f1-9ef30a65d988",
   "metadata": {
    "tags": []
   },
   "outputs": [
    {
     "data": {
      "text/plain": [
       "cs_gestant\n",
       "6    843726\n",
       "5    391893\n",
       "9     51484\n",
       "3      8168\n",
       "2      3297\n",
       "1      1398\n",
       "4       671\n",
       "Name: count, dtype: Int64"
      ]
     },
     "execution_count": 28,
     "metadata": {},
     "output_type": "execute_result"
    }
   ],
   "source": [
    "df1_aux['cs_gestant'].value_counts()"
   ]
  },
  {
   "cell_type": "code",
   "execution_count": 29,
   "id": "0be19b3e-19fe-4226-b6b5-ecb1210f1d38",
   "metadata": {
    "tags": []
   },
   "outputs": [
    {
     "data": {
      "text/plain": [
       "cs_gestant\n",
       "6             696033\n",
       "5               1127\n",
       "9                 45\n",
       "Name: count, dtype: int64"
      ]
     },
     "execution_count": 29,
     "metadata": {},
     "output_type": "execute_result"
    }
   ],
   "source": [
    "df1_aux.loc[df1_aux['cs_sexo'] == 'M', ['cs_gestant']].value_counts()"
   ]
  },
  {
   "cell_type": "code",
   "execution_count": 30,
   "id": "225e18ec-d071-4b0f-8375-0033d87451ad",
   "metadata": {},
   "outputs": [],
   "source": [
    "# Se a variável 'cs_sexo' é igual a M, então os dados da variável 'cs_gestant' deveriam ser igual a 6 (Não se aplica) "
   ]
  },
  {
   "cell_type": "code",
   "execution_count": 31,
   "id": "46cc31fa-272d-4cb3-a7c8-493b84f356c6",
   "metadata": {
    "tags": []
   },
   "outputs": [],
   "source": [
    "df1_aux.loc[df1_aux['cs_sexo'] == 'M', 'cs_gestant'] = 6"
   ]
  },
  {
   "cell_type": "code",
   "execution_count": 32,
   "id": "acc02531-1e30-40c7-afe3-0748fc0d6f1d",
   "metadata": {
    "tags": []
   },
   "outputs": [
    {
     "data": {
      "text/plain": [
       "cs_gestant\n",
       "6    697205\n",
       "Name: count, dtype: Int64"
      ]
     },
     "execution_count": 32,
     "metadata": {},
     "output_type": "execute_result"
    }
   ],
   "source": [
    "df1_aux.loc[df1_aux['cs_sexo'] == 'M', 'cs_gestant'].value_counts()"
   ]
  },
  {
   "cell_type": "code",
   "execution_count": 33,
   "id": "925ac434-2909-4873-94a6-d6a1fd32585a",
   "metadata": {
    "tags": []
   },
   "outputs": [
    {
     "data": {
      "text/plain": [
       "ave_suino\n",
       "2.0    879111\n",
       "9.0    189169\n",
       "1.0     11367\n",
       "3.0      1164\n",
       "Name: count, dtype: int64"
      ]
     },
     "execution_count": 33,
     "metadata": {},
     "output_type": "execute_result"
    }
   ],
   "source": [
    "df1_aux['ave_suino'].value_counts()"
   ]
  },
  {
   "cell_type": "code",
   "execution_count": 34,
   "id": "d37dc2bb-c8db-4542-93dc-a610e93cb12a",
   "metadata": {},
   "outputs": [],
   "source": [
    "# A variável 'ave_suino' deve conter os dados 1, 2 e 9. Portanto, os valores diferentes deste foram excluídos"
   ]
  },
  {
   "cell_type": "code",
   "execution_count": 35,
   "id": "b1c6bd5c-2a6a-40ba-bb79-1a074ce165b9",
   "metadata": {
    "tags": []
   },
   "outputs": [],
   "source": [
    "df1_aux = df1_aux[df1_aux['ave_suino'].isin([1, 2, 9])]"
   ]
  },
  {
   "cell_type": "code",
   "execution_count": 36,
   "id": "534a34eb-33ce-4378-a8ed-e707f5ebf119",
   "metadata": {
    "tags": []
   },
   "outputs": [
    {
     "data": {
      "text/plain": [
       "ave_suino\n",
       "2.0    879111\n",
       "9.0    189169\n",
       "1.0     11367\n",
       "Name: count, dtype: int64"
      ]
     },
     "execution_count": 36,
     "metadata": {},
     "output_type": "execute_result"
    }
   ],
   "source": [
    "df1_aux['ave_suino'].value_counts()"
   ]
  },
  {
   "cell_type": "code",
   "execution_count": 37,
   "id": "f67d9580-5eae-4426-ae2a-d53b6f4c7925",
   "metadata": {
    "tags": []
   },
   "outputs": [
    {
     "data": {
      "text/plain": [
       "puerpera\n",
       "2.0    372956\n",
       "9.0      7844\n",
       "1.0      3606\n",
       "7.0         1\n",
       "Name: count, dtype: int64"
      ]
     },
     "execution_count": 37,
     "metadata": {},
     "output_type": "execute_result"
    }
   ],
   "source": [
    "df1_aux['puerpera'].value_counts()"
   ]
  },
  {
   "cell_type": "code",
   "execution_count": 38,
   "id": "1b6407be-c7fd-4122-99d9-0c6e9b1367db",
   "metadata": {
    "tags": []
   },
   "outputs": [],
   "source": [
    "# A variável 'puerpera' deve conter os dados 1, 2 e 9. Portanto, os valores diferentes deste foram excluídos"
   ]
  },
  {
   "cell_type": "code",
   "execution_count": 39,
   "id": "0361c301-79d3-4f91-bb6b-9b69b126818a",
   "metadata": {
    "tags": []
   },
   "outputs": [],
   "source": [
    "df1_aux = df1_aux[df1_aux['puerpera'].isin([1, 2, 9])]"
   ]
  },
  {
   "cell_type": "code",
   "execution_count": 40,
   "id": "71e7d434-b25f-4eff-9c77-ecdf34b157cb",
   "metadata": {
    "tags": []
   },
   "outputs": [
    {
     "data": {
      "text/plain": [
       "puerpera\n",
       "2.0    372956\n",
       "9.0      7844\n",
       "1.0      3606\n",
       "Name: count, dtype: int64"
      ]
     },
     "execution_count": 40,
     "metadata": {},
     "output_type": "execute_result"
    }
   ],
   "source": [
    "df1_aux['puerpera'].value_counts()"
   ]
  },
  {
   "cell_type": "code",
   "execution_count": 47,
   "id": "fd855211-9743-4202-9c4e-c0b321f4fe59",
   "metadata": {
    "tags": []
   },
   "outputs": [
    {
     "data": {
      "text/plain": [
       "tp_antivir\n",
       "2.0    16594\n",
       "1.0     8652\n",
       "9.0     2741\n",
       "3.0     1344\n",
       "Name: count, dtype: int64"
      ]
     },
     "execution_count": 47,
     "metadata": {},
     "output_type": "execute_result"
    }
   ],
   "source": [
    "df1_aux['tp_antivir'].value_counts()"
   ]
  },
  {
   "cell_type": "code",
   "execution_count": 49,
   "id": "e399c657-91cb-4978-9ff3-ba3a8f662445",
   "metadata": {
    "tags": []
   },
   "outputs": [],
   "source": [
    "# A variável 'tp_antivir' deve conter os dados 1, 2 e 3. Portanto, os valores diferentes deste foram alterados para 3 (Outro)"
   ]
  },
  {
   "cell_type": "code",
   "execution_count": 50,
   "id": "9f36d781-3360-4c66-b64e-46d9eff6d579",
   "metadata": {
    "tags": []
   },
   "outputs": [],
   "source": [
    "df1_aux.loc[df1_aux['tp_antivir'] == 9, 'tp_antivir'] = 3"
   ]
  },
  {
   "cell_type": "code",
   "execution_count": 51,
   "id": "273e5724-f95c-4aa4-950c-9402a210e6b3",
   "metadata": {
    "tags": []
   },
   "outputs": [
    {
     "data": {
      "text/plain": [
       "tp_antivir\n",
       "2.0    16594\n",
       "1.0     8652\n",
       "3.0     4085\n",
       "Name: count, dtype: int64"
      ]
     },
     "execution_count": 51,
     "metadata": {},
     "output_type": "execute_result"
    }
   ],
   "source": [
    "df1_aux['tp_antivir'].value_counts()"
   ]
  },
  {
   "cell_type": "code",
   "execution_count": 55,
   "id": "c61cb075-967c-48b2-99fa-2e1e3a2729ba",
   "metadata": {
    "tags": []
   },
   "outputs": [
    {
     "data": {
      "text/plain": [
       "hospital\n",
       "1.0    350762\n",
       "2.0      9936\n",
       "9.0      1066\n",
       "3.0        87\n",
       "Name: count, dtype: int64"
      ]
     },
     "execution_count": 55,
     "metadata": {},
     "output_type": "execute_result"
    }
   ],
   "source": [
    "df1_aux['hospital'].value_counts()"
   ]
  },
  {
   "cell_type": "code",
   "execution_count": 56,
   "id": "e9cfffbe-7064-4900-a63e-f3a587bded34",
   "metadata": {
    "tags": []
   },
   "outputs": [],
   "source": [
    "# A variável 'hospital' deve conter os dados 1, 2 e 9. Portanto, os valores diferentes deste foram alterados para 9 (Outro)"
   ]
  },
  {
   "cell_type": "code",
   "execution_count": 57,
   "id": "63eae82c-9576-49ee-81f2-49cc8e51b620",
   "metadata": {
    "tags": []
   },
   "outputs": [],
   "source": [
    "df1_aux.loc[df1_aux['hospital'] == 3, 'hospital'] = 9"
   ]
  },
  {
   "cell_type": "code",
   "execution_count": 58,
   "id": "8c29f0ec-107e-48cc-af2f-f4771a01b770",
   "metadata": {
    "tags": []
   },
   "outputs": [
    {
     "data": {
      "text/plain": [
       "hospital\n",
       "1.0    350762\n",
       "2.0      9936\n",
       "9.0      1153\n",
       "Name: count, dtype: int64"
      ]
     },
     "execution_count": 58,
     "metadata": {},
     "output_type": "execute_result"
    }
   ],
   "source": [
    "df1_aux['hospital'].value_counts()"
   ]
  },
  {
   "cell_type": "code",
   "execution_count": 59,
   "id": "521aedd8-bcae-44db-98d5-c31d1db379f1",
   "metadata": {
    "tags": []
   },
   "outputs": [
    {
     "data": {
      "text/plain": [
       "uti\n",
       "2.0    214642\n",
       "1.0    142165\n",
       "9.0      6312\n",
       "3.0        16\n",
       "Name: count, dtype: int64"
      ]
     },
     "execution_count": 59,
     "metadata": {},
     "output_type": "execute_result"
    }
   ],
   "source": [
    "df1_aux['uti'].value_counts()"
   ]
  },
  {
   "cell_type": "code",
   "execution_count": 60,
   "id": "eb0f4bc0-3825-4154-8e58-34eadbfee14f",
   "metadata": {
    "tags": []
   },
   "outputs": [],
   "source": [
    "# A variável 'uti' deve conter os dados 1, 2 e 9. Portanto, os valores diferentes deste foram alterados para 9 (Outro)"
   ]
  },
  {
   "cell_type": "code",
   "execution_count": 61,
   "id": "edd6d4f5-6cf6-4758-a531-cd26d5d19bc5",
   "metadata": {
    "tags": []
   },
   "outputs": [],
   "source": [
    "df1_aux.loc[df1_aux['uti'] == 3, 'uti'] = 9"
   ]
  },
  {
   "cell_type": "code",
   "execution_count": 62,
   "id": "58b070dc-c077-4c17-b921-85a6261d4ae5",
   "metadata": {
    "tags": []
   },
   "outputs": [
    {
     "data": {
      "text/plain": [
       "uti\n",
       "2.0    214642\n",
       "1.0    142165\n",
       "9.0      6328\n",
       "Name: count, dtype: int64"
      ]
     },
     "execution_count": 62,
     "metadata": {},
     "output_type": "execute_result"
    }
   ],
   "source": [
    "df1_aux['uti'].value_counts()"
   ]
  },
  {
   "cell_type": "code",
   "execution_count": 72,
   "id": "06f7c86f-050e-42f9-bb16-28739c7d05df",
   "metadata": {
    "tags": []
   },
   "outputs": [
    {
     "data": {
      "text/plain": [
       "amostra\n",
       "1.0           337121\n",
       "2.0              386\n",
       "3.0               46\n",
       "9.0                9\n",
       "13012022.0         1\n",
       "13072021.0         1\n",
       "Name: count, dtype: int64"
      ]
     },
     "execution_count": 72,
     "metadata": {},
     "output_type": "execute_result"
    }
   ],
   "source": [
    "df1_aux['amostra'].value_counts()"
   ]
  },
  {
   "cell_type": "code",
   "execution_count": 73,
   "id": "1715c326-5a51-479d-a213-7cc7002a0f25",
   "metadata": {
    "tags": []
   },
   "outputs": [],
   "source": [
    "# A variável 'amostra' deve conter os dados 1, 2, 3, 4, 5 e 9. Portanto, os valores diferentes deste foram excluídos"
   ]
  },
  {
   "cell_type": "code",
   "execution_count": 74,
   "id": "e3f19419-46bf-4486-a48a-9a6527fb3237",
   "metadata": {
    "tags": []
   },
   "outputs": [],
   "source": [
    "df1_aux = df1_aux[df1_aux['amostra'].isin([1, 2, 9])]"
   ]
  },
  {
   "cell_type": "code",
   "execution_count": 75,
   "id": "ec34656a-4842-4b26-a537-5825bce47f9e",
   "metadata": {
    "tags": []
   },
   "outputs": [
    {
     "data": {
      "text/plain": [
       "amostra\n",
       "1.0    337121\n",
       "2.0       386\n",
       "9.0         9\n",
       "Name: count, dtype: int64"
      ]
     },
     "execution_count": 75,
     "metadata": {},
     "output_type": "execute_result"
    }
   ],
   "source": [
    "df1_aux['amostra'].value_counts()"
   ]
  },
  {
   "cell_type": "code",
   "execution_count": 67,
   "id": "a7261514-a759-4122-9d43-5744d1c238bc",
   "metadata": {
    "tags": []
   },
   "outputs": [
    {
     "data": {
      "text/plain": [
       "tp_amostra\n",
       "1.0           321131\n",
       "4.0            33767\n",
       "2.0             1953\n",
       "9.0              665\n",
       "6.0              296\n",
       "5.0              191\n",
       "3.0              120\n",
       "5042021.0          1\n",
       "30052022.0         1\n",
       "Name: count, dtype: int64"
      ]
     },
     "execution_count": 67,
     "metadata": {},
     "output_type": "execute_result"
    }
   ],
   "source": [
    "df1_aux['tp_amostra'].value_counts()"
   ]
  },
  {
   "cell_type": "code",
   "execution_count": 68,
   "id": "c4cb7c89-769e-4193-80cf-15798573a5c6",
   "metadata": {
    "tags": []
   },
   "outputs": [],
   "source": [
    "# A variável 'tp_amostra' deve conter os dados 1, 2, 3, 4, 5 e 9. Portanto, os valores diferentes deste foram excluídos"
   ]
  },
  {
   "cell_type": "code",
   "execution_count": 69,
   "id": "5c9ead55-b8e5-4224-83eb-eb6a643d3531",
   "metadata": {
    "tags": []
   },
   "outputs": [],
   "source": [
    "df1_aux = df1_aux[df1_aux['tp_amostra'].isin([1, 2, 3, 4, 5, 9])]"
   ]
  },
  {
   "cell_type": "code",
   "execution_count": 70,
   "id": "bd429a27-872d-472a-a873-1f56186be6fe",
   "metadata": {
    "tags": []
   },
   "outputs": [
    {
     "data": {
      "text/plain": [
       "tp_amostra\n",
       "1.0    321131\n",
       "4.0     33767\n",
       "2.0      1953\n",
       "9.0       665\n",
       "5.0       191\n",
       "3.0       120\n",
       "Name: count, dtype: int64"
      ]
     },
     "execution_count": 70,
     "metadata": {},
     "output_type": "execute_result"
    }
   ],
   "source": [
    "df1_aux['tp_amostra'].value_counts()"
   ]
  },
  {
   "cell_type": "code",
   "execution_count": 77,
   "id": "d2703d57-f77d-4ea3-910d-b80663ae5267",
   "metadata": {
    "tags": []
   },
   "outputs": [
    {
     "data": {
      "text/plain": [
       "classi_fin\n",
       "5    228740\n",
       "4     98930\n",
       "1      4078\n",
       "2      4028\n",
       "3      1524\n",
       "6         6\n",
       "9         2\n",
       "Name: count, dtype: Int64"
      ]
     },
     "execution_count": 77,
     "metadata": {},
     "output_type": "execute_result"
    }
   ],
   "source": [
    "df1_aux['classi_fin'].value_counts()"
   ]
  },
  {
   "cell_type": "code",
   "execution_count": 78,
   "id": "5d4f1c46-247b-40f4-b965-e288608ea6a5",
   "metadata": {
    "tags": []
   },
   "outputs": [],
   "source": [
    "# A variável 'classi_fin' deve conter os dados 1, 2, 3, 4 e 5. Portanto, os valores diferentes deste foram excluídos"
   ]
  },
  {
   "cell_type": "code",
   "execution_count": 79,
   "id": "5476f262-8ee4-4708-8b85-3772f2721a4a",
   "metadata": {
    "tags": []
   },
   "outputs": [],
   "source": [
    "df1_aux = df1_aux[df1_aux['classi_fin'].isin([1, 2, 3, 4, 5])]"
   ]
  },
  {
   "cell_type": "code",
   "execution_count": 80,
   "id": "1b4a5789-f834-4046-82a2-408860f3c9bc",
   "metadata": {
    "tags": []
   },
   "outputs": [
    {
     "data": {
      "text/plain": [
       "classi_fin\n",
       "5    228740\n",
       "4     98930\n",
       "1      4078\n",
       "2      4028\n",
       "3      1524\n",
       "Name: count, dtype: Int64"
      ]
     },
     "execution_count": 80,
     "metadata": {},
     "output_type": "execute_result"
    }
   ],
   "source": [
    "df1_aux['classi_fin'].value_counts()"
   ]
  },
  {
   "cell_type": "code",
   "execution_count": 84,
   "id": "f8c9a4d2-9c0a-48ef-9ce2-29c4c1dc1173",
   "metadata": {
    "tags": []
   },
   "outputs": [
    {
     "data": {
      "text/plain": [
       "dose_1_cov\n",
       "0    207164\n",
       "1    129455\n",
       "2       203\n",
       "6       178\n",
       "9        92\n",
       "5        58\n",
       "3        26\n",
       "4        15\n",
       "Name: count, dtype: Int64"
      ]
     },
     "execution_count": 84,
     "metadata": {},
     "output_type": "execute_result"
    }
   ],
   "source": [
    "df1_aux['dose_1_cov'].value_counts()"
   ]
  },
  {
   "cell_type": "code",
   "execution_count": 85,
   "id": "ff92781e-30ec-4e51-bef8-2f86d914f899",
   "metadata": {
    "tags": []
   },
   "outputs": [],
   "source": [
    "# A variável 'dose_1_cov' deve conter os dados 0 e 1. Portanto, os valores diferentes deste foram excluídos"
   ]
  },
  {
   "cell_type": "code",
   "execution_count": 86,
   "id": "b89fe8b7-fb46-4792-a0da-5061be277270",
   "metadata": {
    "tags": []
   },
   "outputs": [],
   "source": [
    "df1_aux = df1_aux[df1_aux['dose_1_cov'].isin([0, 1])]"
   ]
  },
  {
   "cell_type": "code",
   "execution_count": 87,
   "id": "18ad06c5-168c-43a3-ace4-70df12e5454c",
   "metadata": {
    "tags": []
   },
   "outputs": [
    {
     "data": {
      "text/plain": [
       "dose_1_cov\n",
       "0    207164\n",
       "1    129455\n",
       "Name: count, dtype: Int64"
      ]
     },
     "execution_count": 87,
     "metadata": {},
     "output_type": "execute_result"
    }
   ],
   "source": [
    "df1_aux['dose_1_cov'].value_counts()"
   ]
  },
  {
   "cell_type": "code",
   "execution_count": 90,
   "id": "d4e555aa-68e3-4510-9ff9-880fa637a8b8",
   "metadata": {
    "tags": []
   },
   "outputs": [
    {
     "data": {
      "text/plain": [
       "dose_ref\n",
       "0    299907\n",
       "1     36672\n",
       "2        20\n",
       "9        10\n",
       "Name: count, dtype: Int64"
      ]
     },
     "execution_count": 90,
     "metadata": {},
     "output_type": "execute_result"
    }
   ],
   "source": [
    "df1_aux['dose_ref'].value_counts()"
   ]
  },
  {
   "cell_type": "code",
   "execution_count": 91,
   "id": "aa641caa-6a1c-4137-bec7-448e0af39985",
   "metadata": {
    "tags": []
   },
   "outputs": [],
   "source": [
    "# A variável 'dose_ref' deve conter os dados 0 e 1. Portanto, os valores diferentes deste foram excluídos"
   ]
  },
  {
   "cell_type": "code",
   "execution_count": 92,
   "id": "841e35ea-425e-4452-8db6-c8d60ef35721",
   "metadata": {
    "tags": []
   },
   "outputs": [],
   "source": [
    "df1_aux = df1_aux[df1_aux['dose_ref'].isin([0, 1])]"
   ]
  },
  {
   "cell_type": "code",
   "execution_count": 93,
   "id": "810f3900-3b9f-495f-934e-29102781db18",
   "metadata": {
    "tags": []
   },
   "outputs": [
    {
     "data": {
      "text/plain": [
       "dose_ref\n",
       "0    299907\n",
       "1     36672\n",
       "Name: count, dtype: Int64"
      ]
     },
     "execution_count": 93,
     "metadata": {},
     "output_type": "execute_result"
    }
   ],
   "source": [
    "df1_aux['dose_ref'].value_counts()"
   ]
  },
  {
   "cell_type": "code",
   "execution_count": 41,
   "id": "295f5a30-d242-41f9-b895-10b65762bd06",
   "metadata": {
    "tags": []
   },
   "outputs": [
    {
     "data": {
      "text/html": [
       "<div>\n",
       "<style scoped>\n",
       "    .dataframe tbody tr th:only-of-type {\n",
       "        vertical-align: middle;\n",
       "    }\n",
       "\n",
       "    .dataframe tbody tr th {\n",
       "        vertical-align: top;\n",
       "    }\n",
       "\n",
       "    .dataframe thead th {\n",
       "        text-align: right;\n",
       "    }\n",
       "</style>\n",
       "<table border=\"1\" class=\"dataframe\">\n",
       "  <thead>\n",
       "    <tr style=\"text-align: right;\">\n",
       "      <th></th>\n",
       "      <th>cs_sexo</th>\n",
       "      <th>cs_gestant</th>\n",
       "      <th>cs_raca</th>\n",
       "      <th>cs_escol_n</th>\n",
       "      <th>cs_zona</th>\n",
       "      <th>nosocomial</th>\n",
       "      <th>ave_suino</th>\n",
       "      <th>febre</th>\n",
       "      <th>tosse</th>\n",
       "      <th>garganta</th>\n",
       "      <th>dispneia</th>\n",
       "      <th>desc_resp</th>\n",
       "      <th>saturacao</th>\n",
       "      <th>diarreia</th>\n",
       "      <th>vomito</th>\n",
       "      <th>dor_abd</th>\n",
       "      <th>fadiga</th>\n",
       "      <th>perd_olft</th>\n",
       "      <th>perd_pala</th>\n",
       "      <th>fator_risc</th>\n",
       "      <th>puerpera</th>\n",
       "      <th>cardiopati</th>\n",
       "      <th>hematologi</th>\n",
       "      <th>sind_down</th>\n",
       "      <th>hepatica</th>\n",
       "      <th>asma</th>\n",
       "      <th>diabetes</th>\n",
       "      <th>neurologic</th>\n",
       "      <th>pneumopati</th>\n",
       "      <th>imunodepre</th>\n",
       "      <th>renal</th>\n",
       "      <th>obesidade</th>\n",
       "      <th>vacina</th>\n",
       "      <th>antiviral</th>\n",
       "      <th>tp_antivir</th>\n",
       "      <th>hospital</th>\n",
       "      <th>uti</th>\n",
       "      <th>suport_ven</th>\n",
       "      <th>raiox_res</th>\n",
       "      <th>amostra</th>\n",
       "      <th>tp_amostra</th>\n",
       "      <th>classi_fin</th>\n",
       "      <th>tomo_res</th>\n",
       "      <th>vacina_cov</th>\n",
       "      <th>dose_1_cov</th>\n",
       "      <th>dose_2_cov</th>\n",
       "      <th>dose_ref</th>\n",
       "    </tr>\n",
       "  </thead>\n",
       "  <tbody>\n",
       "    <tr>\n",
       "      <th>0</th>\n",
       "      <td>M</td>\n",
       "      <td>6</td>\n",
       "      <td>1</td>\n",
       "      <td>9.0</td>\n",
       "      <td>1.0</td>\n",
       "      <td>2.0</td>\n",
       "      <td>2.0</td>\n",
       "      <td>2.0</td>\n",
       "      <td>1.0</td>\n",
       "      <td>2.0</td>\n",
       "      <td>2.0</td>\n",
       "      <td>2.0</td>\n",
       "      <td>2.0</td>\n",
       "      <td>2.0</td>\n",
       "      <td>2.0</td>\n",
       "      <td>2.0</td>\n",
       "      <td>2.0</td>\n",
       "      <td>2.0</td>\n",
       "      <td>2.0</td>\n",
       "      <td>1</td>\n",
       "      <td>2.0</td>\n",
       "      <td>2.0</td>\n",
       "      <td>2.0</td>\n",
       "      <td>2.0</td>\n",
       "      <td>2.0</td>\n",
       "      <td>2.0</td>\n",
       "      <td>2.0</td>\n",
       "      <td>2.0</td>\n",
       "      <td>2.0</td>\n",
       "      <td>2.0</td>\n",
       "      <td>2.0</td>\n",
       "      <td>2.0</td>\n",
       "      <td>9.0</td>\n",
       "      <td>2.0</td>\n",
       "      <td>NaN</td>\n",
       "      <td>1.0</td>\n",
       "      <td>2.0</td>\n",
       "      <td>3.0</td>\n",
       "      <td>6.0</td>\n",
       "      <td>1.0</td>\n",
       "      <td>1.0</td>\n",
       "      <td>5</td>\n",
       "      <td>6.0</td>\n",
       "      <td>1.0</td>\n",
       "      <td>1</td>\n",
       "      <td>1</td>\n",
       "      <td>0</td>\n",
       "    </tr>\n",
       "    <tr>\n",
       "      <th>3</th>\n",
       "      <td>F</td>\n",
       "      <td>5</td>\n",
       "      <td>1</td>\n",
       "      <td>1.0</td>\n",
       "      <td>1.0</td>\n",
       "      <td>2.0</td>\n",
       "      <td>2.0</td>\n",
       "      <td>2.0</td>\n",
       "      <td>2.0</td>\n",
       "      <td>2.0</td>\n",
       "      <td>1.0</td>\n",
       "      <td>1.0</td>\n",
       "      <td>1.0</td>\n",
       "      <td>2.0</td>\n",
       "      <td>2.0</td>\n",
       "      <td>2.0</td>\n",
       "      <td>2.0</td>\n",
       "      <td>2.0</td>\n",
       "      <td>2.0</td>\n",
       "      <td>1</td>\n",
       "      <td>2.0</td>\n",
       "      <td>1.0</td>\n",
       "      <td>2.0</td>\n",
       "      <td>2.0</td>\n",
       "      <td>2.0</td>\n",
       "      <td>2.0</td>\n",
       "      <td>2.0</td>\n",
       "      <td>2.0</td>\n",
       "      <td>2.0</td>\n",
       "      <td>2.0</td>\n",
       "      <td>2.0</td>\n",
       "      <td>2.0</td>\n",
       "      <td>1.0</td>\n",
       "      <td>2.0</td>\n",
       "      <td>NaN</td>\n",
       "      <td>1.0</td>\n",
       "      <td>2.0</td>\n",
       "      <td>2.0</td>\n",
       "      <td>6.0</td>\n",
       "      <td>1.0</td>\n",
       "      <td>1.0</td>\n",
       "      <td>5</td>\n",
       "      <td>6.0</td>\n",
       "      <td>1.0</td>\n",
       "      <td>1</td>\n",
       "      <td>1</td>\n",
       "      <td>1</td>\n",
       "    </tr>\n",
       "    <tr>\n",
       "      <th>15</th>\n",
       "      <td>M</td>\n",
       "      <td>6</td>\n",
       "      <td>4</td>\n",
       "      <td>NaN</td>\n",
       "      <td>1.0</td>\n",
       "      <td>2.0</td>\n",
       "      <td>2.0</td>\n",
       "      <td>1.0</td>\n",
       "      <td>1.0</td>\n",
       "      <td>2.0</td>\n",
       "      <td>2.0</td>\n",
       "      <td>2.0</td>\n",
       "      <td>2.0</td>\n",
       "      <td>1.0</td>\n",
       "      <td>1.0</td>\n",
       "      <td>1.0</td>\n",
       "      <td>1.0</td>\n",
       "      <td>2.0</td>\n",
       "      <td>2.0</td>\n",
       "      <td>1</td>\n",
       "      <td>2.0</td>\n",
       "      <td>1.0</td>\n",
       "      <td>2.0</td>\n",
       "      <td>2.0</td>\n",
       "      <td>2.0</td>\n",
       "      <td>2.0</td>\n",
       "      <td>1.0</td>\n",
       "      <td>2.0</td>\n",
       "      <td>2.0</td>\n",
       "      <td>2.0</td>\n",
       "      <td>2.0</td>\n",
       "      <td>2.0</td>\n",
       "      <td>2.0</td>\n",
       "      <td>2.0</td>\n",
       "      <td>NaN</td>\n",
       "      <td>1.0</td>\n",
       "      <td>1.0</td>\n",
       "      <td>1.0</td>\n",
       "      <td>6.0</td>\n",
       "      <td>2.0</td>\n",
       "      <td>NaN</td>\n",
       "      <td>5</td>\n",
       "      <td>1.0</td>\n",
       "      <td>NaN</td>\n",
       "      <td>0</td>\n",
       "      <td>0</td>\n",
       "      <td>0</td>\n",
       "    </tr>\n",
       "  </tbody>\n",
       "</table>\n",
       "</div>"
      ],
      "text/plain": [
       "   cs_sexo  cs_gestant  cs_raca  cs_escol_n  cs_zona  nosocomial  ave_suino  \\\n",
       "0        M           6        1         9.0      1.0         2.0        2.0   \n",
       "3        F           5        1         1.0      1.0         2.0        2.0   \n",
       "15       M           6        4         NaN      1.0         2.0        2.0   \n",
       "\n",
       "    febre  tosse  garganta  dispneia  desc_resp  saturacao  diarreia  vomito  \\\n",
       "0     2.0    1.0       2.0       2.0        2.0        2.0       2.0     2.0   \n",
       "3     2.0    2.0       2.0       1.0        1.0        1.0       2.0     2.0   \n",
       "15    1.0    1.0       2.0       2.0        2.0        2.0       1.0     1.0   \n",
       "\n",
       "    dor_abd  fadiga  perd_olft  perd_pala  fator_risc  puerpera  cardiopati  \\\n",
       "0       2.0     2.0        2.0        2.0           1       2.0         2.0   \n",
       "3       2.0     2.0        2.0        2.0           1       2.0         1.0   \n",
       "15      1.0     1.0        2.0        2.0           1       2.0         1.0   \n",
       "\n",
       "    hematologi  sind_down  hepatica  asma  diabetes  neurologic  pneumopati  \\\n",
       "0          2.0        2.0       2.0   2.0       2.0         2.0         2.0   \n",
       "3          2.0        2.0       2.0   2.0       2.0         2.0         2.0   \n",
       "15         2.0        2.0       2.0   2.0       1.0         2.0         2.0   \n",
       "\n",
       "    imunodepre  renal  obesidade  vacina  antiviral  tp_antivir  hospital  \\\n",
       "0          2.0    2.0        2.0     9.0        2.0         NaN       1.0   \n",
       "3          2.0    2.0        2.0     1.0        2.0         NaN       1.0   \n",
       "15         2.0    2.0        2.0     2.0        2.0         NaN       1.0   \n",
       "\n",
       "    uti  suport_ven  raiox_res  amostra  tp_amostra  classi_fin  tomo_res  \\\n",
       "0   2.0         3.0        6.0      1.0         1.0           5       6.0   \n",
       "3   2.0         2.0        6.0      1.0         1.0           5       6.0   \n",
       "15  1.0         1.0        6.0      2.0         NaN           5       1.0   \n",
       "\n",
       "    vacina_cov  dose_1_cov  dose_2_cov  dose_ref  \n",
       "0          1.0           1           1         0  \n",
       "3          1.0           1           1         1  \n",
       "15         NaN           0           0         0  "
      ]
     },
     "execution_count": 41,
     "metadata": {},
     "output_type": "execute_result"
    }
   ],
   "source": [
    "df1_aux.head(3)"
   ]
  },
  {
   "cell_type": "code",
   "execution_count": 96,
   "id": "922ca125-1267-4064-90b4-7cc59d87508e",
   "metadata": {
    "tags": []
   },
   "outputs": [],
   "source": [
    "df1_aux.to_parquet('reduzido.parquet', index = False)"
   ]
  },
  {
   "cell_type": "code",
   "execution_count": null,
   "id": "c2f9803c-a173-4a16-8d1a-d5cffcfdac89",
   "metadata": {},
   "outputs": [],
   "source": []
  },
  {
   "cell_type": "code",
   "execution_count": null,
   "id": "ff65d3bd-236c-466b-b3dc-32ed0a704719",
   "metadata": {},
   "outputs": [],
   "source": []
  },
  {
   "cell_type": "code",
   "execution_count": null,
   "id": "0b75fb56-c886-4457-9b32-507a1add172e",
   "metadata": {},
   "outputs": [],
   "source": []
  },
  {
   "cell_type": "markdown",
   "id": "dabed547-6304-4a79-9339-471e67546ed3",
   "metadata": {
    "tags": []
   },
   "source": [
    "### 1.7 Verificar NA's"
   ]
  },
  {
   "cell_type": "code",
   "execution_count": 21,
   "id": "21e3723a-517c-4794-8d57-bb71789f2c3c",
   "metadata": {
    "tags": []
   },
   "outputs": [
    {
     "data": {
      "text/plain": [
       "1493.7299999999998"
      ]
     },
     "execution_count": 21,
     "metadata": {},
     "output_type": "execute_result"
    }
   ],
   "source": [
    "df1_NaN = df1_aux.isna().mean().round(4) * 100\n",
    "sum(df1_NaN)"
   ]
  },
  {
   "cell_type": "markdown",
   "id": "b3b5da47-f229-4220-a4eb-d8dc67abbd34",
   "metadata": {},
   "source": [
    "#### 1.7.1 Tratar NA's"
   ]
  },
  {
   "cell_type": "code",
   "execution_count": null,
   "id": "9afe6b91-d604-401f-a714-188f517eb249",
   "metadata": {},
   "outputs": [],
   "source": []
  },
  {
   "cell_type": "code",
   "execution_count": null,
   "id": "fe1a943d-b737-46d2-a0a6-ebcefa51bb5d",
   "metadata": {
    "tags": []
   },
   "outputs": [],
   "source": [
    "# Inserindo 9 - não aplicavel nas linhas com NaN\n",
    "#df1_aux['cs_escol_n'] = df1_aux['cs_escol_n'].fillna(9)\n",
    "#df1_aux['ave_suino'] = df1_aux['ave_suino'].fillna(9)\n",
    "#df1_aux['cs_zona'] = df1_aux['cs_zona'].fillna(9)\n",
    "#df1_aux['nosocomial'] = df1_aux['nosocomial'].fillna(9)\n",
    "#df1_aux['febre'] = df1_aux['febre'].fillna(9)\n",
    "#df1_aux['tosse'] = df1_aux['tosse'].fillna(9)\n",
    "#df1_aux['garganta'] = df1_aux['garganta'].fillna(9)\n",
    "#df1_aux['dispneia'] = df1_aux['dispneia'].fillna(9)\n",
    "#df1_aux['desc_resp'] = df1_aux['desc_resp'].fillna(9)\n",
    "#df1_aux['saturacao'] = df1_aux['saturacao'].fillna(9)\n",
    "#df1_aux['diarreia'] = df1_aux['diarreia'].fillna(9)\n",
    "#df1_aux['vomito'] = df1_aux['vomito'].fillna(9)\n",
    "#df1_aux['outro_sin'] = df1_aux['outro_sin'].fillna(9)\n",
    "#df1_aux['puerpera'] = df1_aux['puerpera'].fillna(9)\n",
    "#df1_aux['fator_risc'] = df1_aux['fator_risc'].fillna(9)\n",
    "#df1_aux['cardiopati'] = df1_aux['cardiopati'].fillna(9)\n",
    "#df1_aux['hematologi'] = df1_aux['hematologi'].fillna(9)\n",
    "#df1_aux['sind_down'] = df1_aux['sind_down'].fillna(9)\n",
    "#df1_aux['hepatica'] = df1_aux['hepatica'].fillna(9)\n",
    "#df1_aux['asma'] = df1_aux['asma'].fillna(9)\n",
    "#df1_aux['diabetes'] = df1_aux['diabetes'].fillna(9)\n",
    "#df1_aux['neurologic'] = df1_aux['neurologic'].fillna(9)\n",
    "#df1_aux['pneumopati'] = df1_aux['pneumopati'].fillna(9)\n",
    "#df1_aux['imunodepre'] = df1_aux['imunodepre'].fillna(9)\n",
    "#df1_aux['renal'] = df1_aux['renal'].fillna(9)\n",
    "#df1_aux['obesidade'] = df1_aux['obesidade'].fillna(9)\n",
    "#df1_aux['out_morbi'] = df1_aux['out_morbi'].fillna(9)\n",
    "#df1_aux['vacina'] = df1_aux['vacina'].fillna(9)\n",
    "#df1_aux['mae_vac'] = df1_aux['mae_vac'].fillna(9)\n",
    "#df1_aux['m_amamenta'] = df1_aux['m_amamenta'].fillna(9)\n",
    "#df1_aux['antiviral'] = df1_aux['antiviral'].fillna(9)\n",
    "#df1_aux['hospital'] = df1_aux['hospital'].fillna(9)\n",
    "#df1_aux['uti'] = df1_aux['uti'].fillna(9)\n",
    "#df1_aux['suport_ven'] = df1_aux['suport_ven'].fillna(9)\n",
    "#df1_aux['raiox_res'] = df1_aux['raiox_res'].fillna(9)\n",
    "#df1_aux['tp_amostra'] = df1_aux['tp_amostra'].fillna(9)\n",
    "#df1_aux['dor_abd'] = df1_aux['dor_abd'].fillna(9)\n",
    "#df1_aux['perd_pala'] = df1_aux['perd_pala'].fillna(9)\n",
    "#df1_aux['tomo_res'] = df1_aux['tomo_res'].fillna(9)"
   ]
  },
  {
   "cell_type": "markdown",
   "id": "ed6c6a7e-676a-403f-88c4-eab52e34497a",
   "metadata": {},
   "source": [
    "### 1.7 Tipo de dados"
   ]
  },
  {
   "cell_type": "code",
   "execution_count": null,
   "id": "9b7403d0-6cd6-4b27-8128-f39f23265062",
   "metadata": {
    "tags": []
   },
   "outputs": [],
   "source": [
    "#df1_aux.info()"
   ]
  },
  {
   "cell_type": "code",
   "execution_count": null,
   "id": "d428e7d9-4e7b-4cf6-bc94-dd86b10a105e",
   "metadata": {
    "tags": []
   },
   "outputs": [],
   "source": [
    "#Substituindo os vários valores de cada variável pelos valores específicados no dicionários de variáveis\n",
    "#df1_aux = df1_aux[ ~ df1_aux['ave_suino'].isin([3])]\n",
    "#df1_aux = df1_aux[df1_aux['vacina_cov'].isin([1, 2, 9])]\n",
    "#df1_aux = df1_aux[df1_aux['tp_antivir'].isin([1, 2, 3])]\n",
    "#df1_aux = df1_aux[df1_aux['amostra'].isin([1, 2, 9])]\n",
    "#df1_aux = df1_aux[df1_aux['tp_amostra'].isin([1, 2, 3, 4, 5, 9])]\n",
    "#df1_aux = df1_aux[df1_aux['fadiga'].isin([1, 2, 9])]\n",
    "#df1_aux = df1_aux[df1_aux['perd_olft'].isin([1, 2, 9])]\n",
    "#df1_aux = df1_aux[df1_aux['dose_1_cov'].isin([0, 1])]\n",
    "#df1_aux = df1_aux[df1_aux['dose_2_cov'].isin([0, 1])]\n",
    "#df1_aux = df1_aux[df1_aux['dose_ref'].isin([0, 1])]"
   ]
  },
  {
   "cell_type": "markdown",
   "id": "956d27d6-c673-412d-b3d0-9862eb0ef3e7",
   "metadata": {},
   "source": [
    "#### 1.7.1 Alterado tipo de dados"
   ]
  },
  {
   "cell_type": "code",
   "execution_count": null,
   "id": "42ad0b4f-fd69-4c35-8694-e90e37253b8d",
   "metadata": {
    "tags": []
   },
   "outputs": [],
   "source": [
    "# Lista de colunas do tipo float64 que deseja converter para int64\n",
    "#colunas_float_para_converter = [\n",
    "#    'cs_escol_n', 'cs_zona', 'nosocomial', 'ave_suino',\n",
    "#    'febre', 'tosse', 'garganta', 'dispneia', 'desc_resp', 'saturacao',\n",
    "#    'diarreia', 'vomito', 'outro_sin', 'puerpera', 'cardiopati',\n",
    "#    'hematologi', 'sind_down', 'hepatica', 'asma', 'diabetes',\n",
    "#    'neurologic', 'pneumopati', 'imunodepre', 'renal', 'obesidade',\n",
    "#    'out_morbi', 'vacina', 'mae_vac', 'm_amamenta', 'antiviral',\n",
    "#    'tp_antivir', 'hospital', 'uti', 'suport_ven', 'raiox_res',\n",
    "#    'amostra', 'tp_amostra', 'classi_fin', 'dor_abd', 'fadiga',\n",
    "#    'perd_olft', 'perd_pala', 'tomo_res', 'vacina_cov']\n",
    "\n",
    "# Convertendo as colunas float64 para int64\n",
    "#for coluna in colunas_float_para_converter:\n",
    "    #df1_aux[coluna] = df1_aux[coluna].astype(int)"
   ]
  },
  {
   "cell_type": "code",
   "execution_count": null,
   "id": "85c1376a-4e80-4bee-b153-a294a81c384d",
   "metadata": {
    "tags": []
   },
   "outputs": [],
   "source": [
    "#df1_aux['classi_fin'].value_counts().sort_index(ascending = True)"
   ]
  },
  {
   "cell_type": "markdown",
   "id": "7f15c087-5311-4263-bc92-56c638c46cc1",
   "metadata": {},
   "source": [
    "#### 1.6.2 Verificar NA's novamente"
   ]
  },
  {
   "cell_type": "code",
   "execution_count": null,
   "id": "3b52fa8d-0d06-409d-b9aa-e039ac367e1d",
   "metadata": {},
   "outputs": [],
   "source": [
    "#df1_NaN = df1_aux.isna().mean().round(4) * 100\n",
    "#sum(df1_NaN)"
   ]
  },
  {
   "cell_type": "code",
   "execution_count": null,
   "id": "fab4f692-b1c6-4886-8a29-f266eb87477d",
   "metadata": {},
   "outputs": [],
   "source": [
    "#df1_aux.to_parquet('reduzido.parquet', index = False)"
   ]
  },
  {
   "cell_type": "code",
   "execution_count": null,
   "id": "ee004579-79b9-4605-b438-a9051768f3ae",
   "metadata": {
    "tags": []
   },
   "outputs": [],
   "source": [
    "df1_aux = pd.read_parquet('reduzido.parquet')"
   ]
  },
  {
   "cell_type": "code",
   "execution_count": null,
   "id": "db5f18b1-dbaa-4230-8d1e-3656211aaa73",
   "metadata": {
    "tags": []
   },
   "outputs": [],
   "source": [
    "df1_aux.head(3)"
   ]
  },
  {
   "cell_type": "markdown",
   "id": "94eb9549-682b-4586-93e1-6cb4e24e3bc1",
   "metadata": {},
   "source": [
    "### <s>1.5 Selecionar amostras aleatórias</s>"
   ]
  },
  {
   "cell_type": "code",
   "execution_count": null,
   "id": "3ad0ba51-7d2f-404a-9bca-ece63fcf43bd",
   "metadata": {
    "tags": []
   },
   "outputs": [],
   "source": [
    "# Devido o data set ter muitas linhas e as classes da variável resposta estar desbalanceadas,\n",
    "# optou-se fazer uma amostragem com a mesma a quantidade de dados para cada classe."
   ]
  },
  {
   "cell_type": "code",
   "execution_count": null,
   "id": "a766c726-aa0a-462b-a55d-e5586e5e54c3",
   "metadata": {
    "tags": []
   },
   "outputs": [],
   "source": [
    "#df1_aux.head(3)"
   ]
  },
  {
   "cell_type": "code",
   "execution_count": null,
   "id": "fb3b3f9b-8056-4453-9e79-f553facb0756",
   "metadata": {
    "tags": []
   },
   "outputs": [],
   "source": [
    "#class1 = df1_aux[df1_aux['classi_fin'] == 1].sample(20000)\n",
    "#class2 = df1_aux[df1_aux['classi_fin'] == 2].sample(20000)\n",
    "#class3 = df1_aux[df1_aux['classi_fin'] == 3]\n",
    "#class4 = df1_aux[df1_aux['classi_fin'] == 4].sample(20000)\n",
    "#class5 = df1_aux[df1_aux['classi_fin'] == 5].sample(20000)"
   ]
  },
  {
   "cell_type": "code",
   "execution_count": null,
   "id": "5eb65aa2-372b-47ae-a8cd-c8c3cb98055f",
   "metadata": {
    "tags": []
   },
   "outputs": [],
   "source": [
    "#df_classificado = pd.concat([class1, class2, class3, class4, class5], ignore_index = True)"
   ]
  },
  {
   "cell_type": "code",
   "execution_count": null,
   "id": "d6ba2a47-ab8d-40fb-95f0-6b1a526592ba",
   "metadata": {
    "tags": []
   },
   "outputs": [],
   "source": [
    "#df_classificado['classi_fin'].value_counts().sort_index(ascending = True)"
   ]
  },
  {
   "cell_type": "markdown",
   "id": "0ded621e-b9b9-467b-92ba-a1a178b436ff",
   "metadata": {},
   "source": [
    "### 1.8 Descrição estatística do negócio"
   ]
  },
  {
   "cell_type": "markdown",
   "id": "97ab729c-83b7-4f29-862a-4bf5b9b081f6",
   "metadata": {},
   "source": [
    "#### 1.8.1 Separar as colunas em variáveis numéricas e variáveis categóricas"
   ]
  },
  {
   "cell_type": "markdown",
   "id": "e373ff5c-c7ae-47bf-8868-98492dd7afe6",
   "metadata": {},
   "source": [
    "#### 1.8.2 Atributos numéricos"
   ]
  },
  {
   "cell_type": "code",
   "execution_count": null,
   "id": "1116dc4f-31cc-437b-89d1-32c70852930b",
   "metadata": {
    "tags": []
   },
   "outputs": [],
   "source": [
    "atributos_numericos = df1_aux.select_dtypes(include = ['int64'])"
   ]
  },
  {
   "cell_type": "code",
   "execution_count": null,
   "id": "e67b8d5a-58af-4c88-8472-fcbca7cbbf81",
   "metadata": {
    "tags": []
   },
   "outputs": [],
   "source": [
    "descricao_estatistica_variaveis_numericas(atributos_numericos)"
   ]
  },
  {
   "cell_type": "markdown",
   "id": "713289bf-4c59-4749-a2ec-72c1de4fd7dc",
   "metadata": {},
   "source": [
    "#### 1.8.3 Atributos categóricos"
   ]
  },
  {
   "cell_type": "code",
   "execution_count": null,
   "id": "8d726617-a985-43da-a4db-c55571366480",
   "metadata": {
    "tags": []
   },
   "outputs": [],
   "source": [
    "atributos_categoricos = df1_aux.select_dtypes(exclude = ['int64'])"
   ]
  },
  {
   "cell_type": "code",
   "execution_count": null,
   "id": "073e8a44-0a66-4a92-94c6-5d654268ffae",
   "metadata": {
    "tags": []
   },
   "outputs": [],
   "source": [
    "descricao_estatistica_variaveis_categoricas(atributos_categoricos)"
   ]
  },
  {
   "cell_type": "code",
   "execution_count": null,
   "id": "454b7b6d-f433-4ede-9611-260087a242af",
   "metadata": {
    "tags": []
   },
   "outputs": [],
   "source": [
    "correlation = atributos_numericos.corr()['classi_fin']\n",
    "correlation.sort_values(ascending = False)"
   ]
  },
  {
   "cell_type": "code",
   "execution_count": null,
   "id": "aa2ded3f-22c5-4eb2-8560-6cdb577082b5",
   "metadata": {
    "tags": []
   },
   "outputs": [],
   "source": [
    "plt.figure(figsize = (30, 20))\n",
    "\n",
    "correlation = atributos_numericos.corr(method = 'pearson')\n",
    "mask = np.triu(np.ones_like(correlation))\n",
    "cmap = sns.color_palette('RdBu_r')\n",
    "sns.heatmap(correlation, xticklabels = correlation.columns, yticklabels = correlation.columns, cmap = cmap, mask = mask, annot = True);"
   ]
  },
  {
   "cell_type": "markdown",
   "id": "2a59ddf0-5b7c-4ba6-8fe0-e1e0a6f21e1d",
   "metadata": {},
   "source": [
    "### 1.9 Selecionar as melhores variáveis"
   ]
  },
  {
   "cell_type": "code",
   "execution_count": null,
   "id": "01a78813-c84a-4a55-8c09-4b98c26831ab",
   "metadata": {
    "tags": []
   },
   "outputs": [],
   "source": [
    "colunas_selecionadas = df1_aux[['classi_fin', 'nu_idade_n', 'tp_antivir', 'tp_idade', 'sem_pri', 'sem_not']]"
   ]
  },
  {
   "cell_type": "code",
   "execution_count": null,
   "id": "156b7964-2bcf-4c92-851d-88645aed995b",
   "metadata": {
    "tags": []
   },
   "outputs": [],
   "source": [
    "colunas_selecionadas.sample(3)"
   ]
  },
  {
   "cell_type": "markdown",
   "id": "e612cbe7-f936-42d8-871c-8ee2de4ce341",
   "metadata": {},
   "source": [
    "#### 1.9.1 Visualizar os dados com Sweetviz"
   ]
  },
  {
   "cell_type": "code",
   "execution_count": null,
   "id": "525f453d-2e55-438d-a7db-8f058cdc9cf7",
   "metadata": {
    "tags": []
   },
   "outputs": [],
   "source": [
    "#my_report = sv.analyze(df1_aux)\n",
    "#my_report.show_html()"
   ]
  },
  {
   "cell_type": "code",
   "execution_count": null,
   "id": "bd1a4222-99b0-4425-ad49-f09bec0ff4fd",
   "metadata": {},
   "outputs": [],
   "source": [
    "#No Sagemaker, a variável resposta precisa começar com o valor zero (0)\n",
    "#e também as informações da variável resposta precisa estar na primeira coluna do dataframe, tanto para os dados de treino como os dados de teste  "
   ]
  },
  {
   "cell_type": "code",
   "execution_count": null,
   "id": "aeca11cc-02de-400b-b94d-db9f06215477",
   "metadata": {
    "tags": []
   },
   "outputs": [],
   "source": [
    "colunas_selecionadas['classi_fin'].value_counts()"
   ]
  },
  {
   "cell_type": "code",
   "execution_count": null,
   "id": "cfd2dd16-3205-4f31-8215-ecbc41d04ef8",
   "metadata": {
    "tags": []
   },
   "outputs": [],
   "source": [
    "# Criando um dicionário de mapeamento\n",
    "mapeamento = {1: 0, 2: 1, 3: 2, 4: 3, 5: 4}\n",
    "\n",
    "colunas_selecionadas['classi_fin'] = colunas_selecionadas['classi_fin'].map(mapeamento)"
   ]
  },
  {
   "cell_type": "code",
   "execution_count": null,
   "id": "577a6395-8990-43c5-a948-71344ed5f00d",
   "metadata": {
    "tags": []
   },
   "outputs": [],
   "source": [
    "colunas_selecionadas['classi_fin'].value_counts()"
   ]
  },
  {
   "cell_type": "markdown",
   "id": "0bb3ab1b-7b0d-4eb4-98d1-4b475a9a6aad",
   "metadata": {},
   "source": [
    "# EDA"
   ]
  },
  {
   "cell_type": "markdown",
   "id": "a2da0524-a375-4489-99d8-e72fcc2852e9",
   "metadata": {
    "tags": []
   },
   "source": [
    "**Pessoas que não tomaram vacina tem maior nº de casos de covid?\n",
    "\n",
    "**Pessoas que estão em área urbana a tendencia de contrair covid é maior?\n",
    "\n",
    "**Pessoas que tem contato com animais do tipo ave ou suino tem alguma doença respiratória?\n",
    "\n",
    "**Pessoas com maior idade tem maior tendencia a contrair doença respiratória?\n",
    "\n",
    "**Pessoas que vivem no interior de Santa Catarina não tiveram nenhuma doença respiratória?\n",
    "\n",
    "**Pessoas que fumam tem tendencia a alguma doença respiratória?\n",
    "\n",
    "**Semanas do ano que são mais frias a quantidade de doença respiratória é maior?\n",
    "\n",
    "**Pessoas que tomaram antiviral tiveram menos sintomas graves?"
   ]
  },
  {
   "cell_type": "markdown",
   "id": "f9242b64-2d1f-4ba5-99d4-bea241be7a90",
   "metadata": {},
   "source": [
    "### 2. Criar um novo bucket no S3 para treinar o algoritmo do Sagemaker"
   ]
  },
  {
   "cell_type": "code",
   "execution_count": null,
   "id": "25b655d7-6acc-4626-b9c3-ce0ffbda241a",
   "metadata": {
    "tags": []
   },
   "outputs": [],
   "source": [
    "df2 = colunas_selecionadas.copy()"
   ]
  },
  {
   "cell_type": "code",
   "execution_count": null,
   "id": "81bb32d9-d667-4081-ae30-8d803d6c3100",
   "metadata": {
    "tags": []
   },
   "outputs": [],
   "source": [
    "#df2 = df1_aux.copy()"
   ]
  },
  {
   "cell_type": "markdown",
   "id": "c1a5227c-e8bf-420e-a174-2a99f62b9057",
   "metadata": {},
   "source": [
    "#### 2.1 Define o nome do bucket S3 para armazenar os dados e os modelos"
   ]
  },
  {
   "cell_type": "code",
   "execution_count": null,
   "id": "eb9c02f8-7f4e-4a34-89ef-797e7c33290f",
   "metadata": {},
   "outputs": [],
   "source": [
    "#Salvando em memória as informações do bucket criado\n",
    "bucket = 'leonardo-nassib-fonseca-treinamento-modelo-do-sagemaker' #Nome do bucket no S3s3://leonardo-nassib-fonseca-treinamento-modelo-do-sagemaker/treino/\n",
    "prefix1 = 'treino' #Nome da pasta onde chamado treino\n",
    "prefix2 = 'teste' #Nome da pasta onde chamado teste\n",
    "prefixest = 'est'"
   ]
  },
  {
   "cell_type": "code",
   "execution_count": null,
   "id": "ac3ce52a-cad2-42ef-8076-031c8987619c",
   "metadata": {},
   "outputs": [],
   "source": [
    "#Separando os dados em treino e teste\n",
    "x = df2.drop('classi_fin', axis = 1)\n",
    "y = df2['classi_fin']\n",
    "x_treino, x_teste, y_treino, y_teste = train_test_split(x, y, test_size = 0.2, random_state = 42)"
   ]
  },
  {
   "cell_type": "code",
   "execution_count": null,
   "id": "1a8466e3-b67d-48db-8114-e932c8605ae7",
   "metadata": {
    "tags": []
   },
   "outputs": [],
   "source": [
    "x_treino.shape, x_teste.shape, y_treino.shape, y_teste.shape"
   ]
  },
  {
   "cell_type": "markdown",
   "id": "faee29f4-b48a-4524-bf3f-e02b4630147c",
   "metadata": {},
   "source": [
    "#### 2.2 Salvar os dados em memória"
   ]
  },
  {
   "cell_type": "code",
   "execution_count": null,
   "id": "159102e9-0eab-467d-bf56-705b3d314dfc",
   "metadata": {
    "tags": []
   },
   "outputs": [],
   "source": [
    "dados_treino = pd.concat([y_treino, x_treino], axis = 1)\n",
    "dados_teste = pd.concat([y_teste, x_teste], axis = 1)"
   ]
  },
  {
   "cell_type": "code",
   "execution_count": null,
   "id": "196db10a-6626-48ce-9ef4-ee940a51a602",
   "metadata": {
    "tags": []
   },
   "outputs": [],
   "source": [
    "#No Sagemaker é necessário remover o nome das colunas"
   ]
  },
  {
   "cell_type": "code",
   "execution_count": null,
   "id": "80c56dda-e104-4020-bc96-c3be1d3298ea",
   "metadata": {
    "tags": []
   },
   "outputs": [],
   "source": [
    "#Dados salvos em memória\n",
    "dados_treino.to_csv('treino.csv', index = False, header = False)\n",
    "dados_teste.to_csv('teste.csv', index = False, header = False)"
   ]
  },
  {
   "cell_type": "markdown",
   "id": "d4e49e34-b74b-4f80-9358-030be4473eb3",
   "metadata": {
    "tags": []
   },
   "source": [
    "#### 2.3 Enviar os dados para o S3"
   ]
  },
  {
   "cell_type": "code",
   "execution_count": null,
   "id": "650bc974-946e-4066-ab80-52b96bce3ea0",
   "metadata": {
    "tags": []
   },
   "outputs": [],
   "source": [
    "# Configurar a sessão do SageMaker, seria uma espécie de login no SageMaker\n",
    "sagemaker_session = sagemaker.Session()"
   ]
  },
  {
   "cell_type": "code",
   "execution_count": null,
   "id": "b9d42b53-bc10-49de-98ee-c787dd0b6988",
   "metadata": {
    "tags": []
   },
   "outputs": [],
   "source": [
    "# Fazendo upload das pastas e dos arquivos de treinamento e teste para o bucket S3\n",
    "dados_treino_path = sagemaker_session.upload_data(path = 'treino.csv', bucket = bucket, key_prefix = prefix1)\n",
    "dados_teste_path = sagemaker_session.upload_data(path = 'teste.csv', bucket = bucket, key_prefix = prefix2)"
   ]
  },
  {
   "cell_type": "code",
   "execution_count": null,
   "id": "bcd89877-0911-4826-9470-9717d570d83d",
   "metadata": {
    "tags": []
   },
   "outputs": [],
   "source": [
    "#Esses objetos TrainingInput são usados posteriormente no Amazon SageMaker\n",
    "#para configurar e iniciar o treinamento do modelo de machine learning.\n",
    "#Eles especificam onde os dados estão armazenados no Amazon S3 e o formato\n",
    "#dos dados. Essa abordagem permite que o SageMaker acesse facilmente\n",
    "#os dados necessários para treinar e testar o modelo.\n",
    "s3_input_treino = sagemaker.inputs.TrainingInput(s3_data = 's3://{}/{}/'.format(bucket, prefix1), content_type = 'csv')\n",
    "s3_input_teste = sagemaker.inputs.TrainingInput(s3_data = 's3://{}/{}/'.format(bucket, prefix2), content_type = 'csv')"
   ]
  },
  {
   "cell_type": "markdown",
   "id": "0aee6ab6-d948-4ecb-bec4-02a1be7fa4ad",
   "metadata": {},
   "source": [
    "#### 2.4 Configurar o ambiente de treinamento do Sagemaker"
   ]
  },
  {
   "cell_type": "code",
   "execution_count": null,
   "id": "2f4920ea-92ac-475a-918b-39e1e09c5012",
   "metadata": {
    "tags": []
   },
   "outputs": [],
   "source": [
    "#Essas linhas de código configuram um ambiente de treinamento no Amazon SageMaker\n",
    "#usando o algoritmo XGBoost, especificando a função de execução, o tipo e o número de\n",
    "#instâncias de treinamento, e o local para armazenamento dos resultados do treinamento.\n",
    "regras = get_execution_role()\n",
    "\n",
    "container = get_image_uri(sagemaker_session.boto_region_name, 'xgboost')\n",
    "\n",
    "estimator = sagemaker.estimator.Estimator(container,\n",
    "                                          regras,\n",
    "                                          train_instance_count = 1,\n",
    "                                          train_instance_type = 'ml.m4.xlarge', #Tipo de máquina\n",
    "                                          output_path = 's3://{}/{}/output'.format(bucket, prefixest), #Onde será salvo a saida do algoritmo\n",
    "                                          sagemaker_session = sagemaker_session)"
   ]
  },
  {
   "cell_type": "code",
   "execution_count": null,
   "id": "56ff2e38-d28c-4629-9fbc-10824d911ceb",
   "metadata": {
    "tags": []
   },
   "outputs": [],
   "source": [
    "regras #Qual regra está associada "
   ]
  },
  {
   "cell_type": "code",
   "execution_count": null,
   "id": "1f2ef02e-4cba-4ab2-9126-b68c3740b394",
   "metadata": {
    "tags": []
   },
   "outputs": [],
   "source": [
    "container #Nome do container"
   ]
  },
  {
   "cell_type": "code",
   "execution_count": null,
   "id": "31b5745d-302b-43df-937d-f7a8e386aabd",
   "metadata": {
    "tags": []
   },
   "outputs": [],
   "source": [
    "estimator"
   ]
  },
  {
   "cell_type": "markdown",
   "id": "8484b890-dc5f-4d7e-b6c9-73b5bf910525",
   "metadata": {},
   "source": [
    "#### 2.5 Definir os hiperparâmetros do modelo"
   ]
  },
  {
   "cell_type": "code",
   "execution_count": null,
   "id": "b8f1869f-76ec-4056-9456-cc0aaf503b8f",
   "metadata": {
    "tags": []
   },
   "outputs": [],
   "source": [
    "# Definir hiperparâmetros para o modelo XGBoost\n",
    "estimator.set_hyperparameters(objective = 'multi:softmax', #multi:softmax para modelos multiclasses, para modelos binarios seria outro parâmetro\n",
    "                              num_class = 5, #Quantidade de classes\n",
    "                              num_round = 100)"
   ]
  },
  {
   "cell_type": "markdown",
   "id": "7cbbd0c0-fa47-4432-9ec5-dc2917abf86f",
   "metadata": {},
   "source": [
    "#### 2.6 Treinar o modelo"
   ]
  },
  {
   "cell_type": "code",
   "execution_count": null,
   "id": "1c1d6457-980d-4fb7-abe4-2503cfcb8bd5",
   "metadata": {
    "tags": []
   },
   "outputs": [],
   "source": [
    "# Treinando o modelo\n",
    "estimator.fit({'train': s3_input_treino, 'validation': s3_input_teste})"
   ]
  },
  {
   "cell_type": "code",
   "execution_count": null,
   "id": "35f7f4cd-b169-49c0-8908-97d0c29d867a",
   "metadata": {
    "tags": []
   },
   "outputs": [],
   "source": [
    "# Implantando o modelo treinado em um endpoint no Amazon SageMaker. Este modelo treinado fica em Inferência > EndPoints\n",
    "predictor = estimator.deploy(initial_instance_count = 1, instance_type='ml.m4.xlarge')"
   ]
  },
  {
   "cell_type": "code",
   "execution_count": null,
   "id": "3de1434e-4d81-4378-bf78-3a415d4b1dd4",
   "metadata": {},
   "outputs": [],
   "source": []
  }
 ],
 "metadata": {
  "kernelspec": {
   "display_name": "conda_python3",
   "language": "python",
   "name": "conda_python3"
  },
  "language_info": {
   "codemirror_mode": {
    "name": "ipython",
    "version": 3
   },
   "file_extension": ".py",
   "mimetype": "text/x-python",
   "name": "python",
   "nbconvert_exporter": "python",
   "pygments_lexer": "ipython3",
   "version": "3.10.14"
  }
 },
 "nbformat": 4,
 "nbformat_minor": 5
}
